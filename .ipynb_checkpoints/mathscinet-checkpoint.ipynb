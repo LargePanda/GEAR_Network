{
 "cells": [
  {
   "cell_type": "code",
   "execution_count": 33,
   "metadata": {
    "collapsed": true
   },
   "outputs": [],
   "source": [
    "import sys\n",
    "default_stdout = sys.stdout\n",
    "default_stderr = sys.stderr\n",
    "reload(sys)\n",
    "sys.stdout = default_stdout\n",
    "sys.stderr = default_stderr\n",
    "sys.setdefaultencoding('utf-8')"
   ]
  },
  {
   "cell_type": "code",
   "execution_count": 66,
   "metadata": {
    "collapsed": true
   },
   "outputs": [],
   "source": [
    "def get_status(div):\n",
    "    article_status_tag = div.find('a', attrs = {\"class\":\"item_status\"})\n",
    "    try:\n",
    "        return article_status_tag.text\n",
    "    except:\n",
    "        return \"\"\n",
    "\n",
    "def get_text(div):\n",
    "    spaced_text = \" \".join(item.strip() for item in div.findAll(text=True))\n",
    "    return spaced_text\n",
    "\n",
    "def clean_text(title_text):\n",
    "    no_newline_text = title_text.replace(\"\\n\", \"\")\n",
    "    reduced_spaced_text = \" \".join(no_newline_text.split())\n",
    "    return reduced_spaced_text\n",
    "\n",
    "def get_desc(div):\n",
    "    full_text = get_text(div)\n",
    "    article_status = get_status(div)\n",
    "    \n",
    "    index = full_text.find(article_status)\n",
    "    start_index = index + len(article_status)\n",
    "    end_index = full_text.find('SFXButton')\n",
    "    \n",
    "    return clean_text(full_text[start_index: end_index])"
   ]
  },
  {
   "cell_type": "code",
   "execution_count": 80,
   "metadata": {
    "collapsed": true
   },
   "outputs": [],
   "source": [
    "def get_article_year(div):\n",
    "    full_text = get_text(div)\n",
    "    for year in range(2000, 2017):\n",
    "        if str(year) in get_desc(div):\n",
    "            return year\n",
    "    return -1\n",
    "\n",
    "def get_article_date(div):\n",
    "    return get_desc(div)\n",
    "\n",
    "def get_article_id(div):\n",
    "    num_tag = div.find('a', attrs = {\"class\":\"mrnum\"})\n",
    "    return num_tag.text[2:]\n",
    "\n",
    "def get_article_url(div):\n",
    "    prefix = 'http://www.ams.org/mathscinet/search/publdoc.html?pg1=MR&s1='\n",
    "    article_id = get_article_id(div)\n",
    "    return prefix + article_id\n",
    "\n",
    "def get_article_desc(div):\n",
    "    return get_desc(div)"
   ]
  },
  {
   "cell_type": "code",
   "execution_count": 81,
   "metadata": {
    "collapsed": true
   },
   "outputs": [],
   "source": [
    "def find_papers(mid):\n",
    "    if \"MR\" in mid:\n",
    "        mid = mid[2:]\n",
    "        \n",
    "    prefix = \"http://www.ams.org/mathscinet/search/publications.html?pg1=INDI&s1=\"\n",
    "    suffix = \"&vfpref=html&r=1&extend=1\"\n",
    "    url = prefix + mid + suffix\n",
    "    \n",
    "    page = urllib2.urlopen(url).read()\n",
    "    soup = BeautifulSoup.BeautifulSoup(page)\n",
    "    divList = soup.findAll('div', attrs={ \"class\" : \"headlineText\"})\n",
    "    info_list = []\n",
    "    for div in divList:\n",
    "            info = {}\n",
    "            info['id'] = get_article_id(div)\n",
    "            info['url'] = get_article_url(div)\n",
    "            info['description'] = get_article_desc(div)\n",
    "            info['date'] = get_article_year(div)\n",
    "            info_list.append(info)\n",
    "    return info_list"
   ]
  },
  {
   "cell_type": "code",
   "execution_count": 82,
   "metadata": {
    "collapsed": true
   },
   "outputs": [],
   "source": [
    "import scrapy\n",
    "import requests\n",
    "import urllib2\n",
    "import BeautifulSoup\n",
    "import pickle\n",
    "import pyprind"
   ]
  },
  {
   "cell_type": "code",
   "execution_count": 83,
   "metadata": {
    "collapsed": true
   },
   "outputs": [],
   "source": [
    "url='http://www.ams.org/mathscinet/search/publications.html?pg1=INDI&s1=667103'"
   ]
  },
  {
   "cell_type": "code",
   "execution_count": null,
   "metadata": {
    "collapsed": true
   },
   "outputs": [],
   "source": [
    "{\n",
    "      \"date\":\"2013\",\n",
    "      \"description\":\"Andersen, J. E.; Penner, R. C.; Reidys, C. M.; Waterman, M. S. Topological classification and enumeration of RNA structures by genus. J. Math. Biol. 67 (2013), no. 5, 1261\\u20131278.\",\n",
    "      \"publication\":\"journal\",\n",
    "      \"id\":\"1\",\n",
    "      \"collaborator_ids\":[\n",
    "         1,\n",
    "         99\n",
    "      ]\n",
    "   },"
   ]
  },
  {
   "cell_type": "code",
   "execution_count": 84,
   "metadata": {
    "collapsed": false
   },
   "outputs": [],
   "source": [
    "find_papers('153290')"
   ]
  },
  {
   "cell_type": "code",
   "execution_count": null,
   "metadata": {
    "collapsed": true
   },
   "outputs": [],
   "source": []
  }
 ],
 "metadata": {
  "kernelspec": {
   "display_name": "Python 2",
   "language": "python",
   "name": "python2"
  },
  "language_info": {
   "codemirror_mode": {
    "name": "ipython",
    "version": 2
   },
   "file_extension": ".py",
   "mimetype": "text/x-python",
   "name": "python",
   "nbconvert_exporter": "python",
   "pygments_lexer": "ipython2",
   "version": "2.7.11"
  }
 },
 "nbformat": 4,
 "nbformat_minor": 0
}
