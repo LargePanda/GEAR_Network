{
 "cells": [
  {
   "cell_type": "markdown",
   "metadata": {},
   "source": [
    "<h1 align = \"center\">GEAR Network</h1>\n",
    "<h4 align = \"center\">Jiarui Xu - jxu57@illinois.edu</h4>"
   ]
  },
  {
   "cell_type": "code",
   "execution_count": 7,
   "metadata": {
    "collapsed": true
   },
   "outputs": [],
   "source": [
    "%matplotlib inline"
   ]
  },
  {
   "cell_type": "code",
   "execution_count": 45,
   "metadata": {
    "collapsed": true
   },
   "outputs": [],
   "source": [
    "import sys\n",
    "default_stdout = sys.stdout\n",
    "default_stderr = sys.stderr\n",
    "reload(sys)\n",
    "sys.stdout = default_stdout\n",
    "sys.stderr = default_stderr\n",
    "sys.setdefaultencoding('utf-8')"
   ]
  },
  {
   "cell_type": "code",
   "execution_count": 8,
   "metadata": {
    "collapsed": false
   },
   "outputs": [],
   "source": [
    "import scrapy\n",
    "import requests\n",
    "import urllib2\n",
    "import BeautifulSoup\n",
    "import pickle\n",
    "import pyprind\n",
    "import json\n",
    "import collections\n",
    "import matplotlib.pyplot as plt"
   ]
  },
  {
   "cell_type": "code",
   "execution_count": 9,
   "metadata": {
    "collapsed": true
   },
   "outputs": [],
   "source": [
    "import mathscinet"
   ]
  },
  {
   "cell_type": "markdown",
   "metadata": {},
   "source": [
    "# Load basic infomation"
   ]
  },
  {
   "cell_type": "code",
   "execution_count": 29,
   "metadata": {
    "collapsed": true
   },
   "outputs": [],
   "source": [
    "with open(\"./profile/profile.json\") as f:\n",
    "    orig_profile = json.load(f)"
   ]
  },
  {
   "cell_type": "code",
   "execution_count": 30,
   "metadata": {
    "collapsed": true
   },
   "outputs": [],
   "source": [
    "gear_mathsci_mapper = {}\n",
    "mathsci_gear_mapper = {}\n",
    "\n",
    "for person in orig_profile['items']:\n",
    "    gear_mathsci_mapper[person['member_id']] = person['mathsci_id']\n",
    "    mathsci_gear_mapper[person['mathsci_id']] = person['member_id']"
   ]
  },
  {
   "cell_type": "markdown",
   "metadata": {
    "collapsed": true
   },
   "source": [
    "# Retrieve papers for each professor"
   ]
  },
  {
   "cell_type": "markdown",
   "metadata": {},
   "source": [
    "### Construct paper_set: mathsci_id -> paper_list mapping"
   ]
  },
  {
   "cell_type": "code",
   "execution_count": 31,
   "metadata": {
    "collapsed": false
   },
   "outputs": [
    {
     "name": "stderr",
     "output_type": "stream",
     "text": [
      "0%                                                                  100%\n",
      "[██████████████████████████████████████████████████████████████████████] | ETA: 00:00:00\n",
      "Total time elapsed: 00:05:42\n"
     ]
    }
   ],
   "source": [
    "bar = pyprind.ProgBar(len(orig_profile['items']), bar_char='█', width=70)\n",
    "\n",
    "paper_set = {}\n",
    "\n",
    "for person in orig_profile['items']:\n",
    "    \n",
    "    bar.update()\n",
    "    \n",
    "    member_id = person['member_id']\n",
    "    mathsci_id = person['mathsci_id']\n",
    "    \n",
    "    if mathsci_id != 'NA':\n",
    "        paper_set[mathsci_id] = mathscinet.find_papers(mathsci_id)"
   ]
  },
  {
   "cell_type": "code",
   "execution_count": 32,
   "metadata": {
    "collapsed": true
   },
   "outputs": [],
   "source": [
    "with open(\"mathscinet_paper_base.json\", \"wb\") as f:\n",
    "    json.dump(paper_set, f)"
   ]
  },
  {
   "cell_type": "code",
   "execution_count": 33,
   "metadata": {
    "collapsed": true
   },
   "outputs": [],
   "source": [
    "with open(\"mathscinet_paper_base.json\", \"rb\") as f:\n",
    "    paper_set = json.load(f)"
   ]
  },
  {
   "cell_type": "code",
   "execution_count": null,
   "metadata": {
    "collapsed": true
   },
   "outputs": [],
   "source": [
    "paper_set"
   ]
  },
  {
   "cell_type": "markdown",
   "metadata": {},
   "source": [
    "# Profile Update"
   ]
  },
  {
   "cell_type": "markdown",
   "metadata": {},
   "source": [
    "### 1. Retrieving papers"
   ]
  },
  {
   "cell_type": "code",
   "execution_count": 34,
   "metadata": {
    "collapsed": false
   },
   "outputs": [
    {
     "name": "stdout",
     "output_type": "stream",
     "text": [
      "Completed! count: 1563\n"
     ]
    }
   ],
   "source": [
    "paper_set_2011 = {}\n",
    "count_2011 = 0\n",
    "\n",
    "for mathsci_id in paper_set.keys():\n",
    "    \n",
    "    paper_set_2011[mathsci_id] = []\n",
    "    \n",
    "    for paper in paper_set[mathsci_id]:\n",
    "        if paper['year'] >= 2011:\n",
    "            count_2011 += 1\n",
    "            paper_set_2011[mathsci_id].append(paper)\n",
    "\n",
    "print \"Completed! count:\", count_2011"
   ]
  },
  {
   "cell_type": "code",
   "execution_count": 42,
   "metadata": {
    "collapsed": false
   },
   "outputs": [
    {
     "data": {
      "text/plain": [
       "[u'MR309514',\n",
       " u'MR819221',\n",
       " u'MR98110',\n",
       " u'MR321364',\n",
       " u'MR945659',\n",
       " u'MR1060633',\n",
       " u'MR671629',\n",
       " u'MR871811',\n",
       " u'MR948082',\n",
       " u'MR866790',\n",
       " u'MR880334',\n",
       " u'MR828977',\n",
       " u'MR184085',\n",
       " u'MR902628',\n",
       " u'MR960056',\n",
       " u'MR355366',\n",
       " u'MR938076',\n",
       " u'MR1065383',\n",
       " u'MR846369',\n",
       " u'MR108970',\n",
       " u'MR866169',\n",
       " u'MR213892',\n",
       " u'MR856435',\n",
       " u'MR848808',\n",
       " u'MR190609',\n",
       " u'MR734679',\n",
       " u'MR955036',\n",
       " u'MR313609',\n",
       " u'MR277295',\n",
       " u'MR695970',\n",
       " u'MR931285',\n",
       " u'MR1043333',\n",
       " u'MR670952',\n",
       " u'MR360380',\n",
       " u'MR740008',\n",
       " u'MR290166',\n",
       " u'MR253227',\n",
       " u'MR604180',\n",
       " u'MR290412',\n",
       " u'MR195516',\n",
       " u'MR1130450',\n",
       " u'MR304864',\n",
       " u'MR248015',\n",
       " u'MR158880',\n",
       " u'MR957049',\n",
       " u'MR745885',\n",
       " u'MR125000',\n",
       " u'MR904402',\n",
       " u'MR1104740',\n",
       " u'MR677695',\n",
       " u'MR239760',\n",
       " u'MR671567',\n",
       " u'MR767561',\n",
       " u'MR264357',\n",
       " u'MR312126',\n",
       " u'MR612457',\n",
       " u'MR1073989',\n",
       " u'MR941342',\n",
       " u'MR962384',\n",
       " u'MR870875',\n",
       " u'MR945619',\n",
       " u'MR1100659',\n",
       " u'MR1043053',\n",
       " u'MR53270',\n",
       " u'MR312802',\n",
       " u'MR714875',\n",
       " u'MR698455',\n",
       " u'MR346256',\n",
       " u'MR341742',\n",
       " u'MR135745',\n",
       " u'MR868724',\n",
       " u'MR251419',\n",
       " u'MR902682',\n",
       " u'MR932716',\n",
       " u'MR796273',\n",
       " u'MR757489',\n",
       " u'MR895138',\n",
       " u'MR606917',\n",
       " u'MR611580',\n",
       " u'MR1010471',\n",
       " u'MR979247',\n",
       " u'MR358972',\n",
       " u'MR892840',\n",
       " u'MR743876',\n",
       " u'MR119725',\n",
       " u'MR267553',\n",
       " u'MR1059784',\n",
       " u'MR362432',\n",
       " u'MR195365',\n",
       " u'MR999547',\n",
       " u'MR699046',\n",
       " u'MR980885',\n",
       " u'MR1079428',\n",
       " u'MR849772',\n",
       " u'MR670970',\n",
       " u'MR74725',\n",
       " u'MR1013453',\n",
       " u'MR1001472',\n",
       " u'MR688414',\n",
       " u'MR318273',\n",
       " u'MR1084747',\n",
       " u'MR785234',\n",
       " u'MR1062326',\n",
       " u'MR364939',\n",
       " u'MR1073879',\n",
       " u'MR229715',\n",
       " u'MR695566',\n",
       " u'MR319072',\n",
       " u'MR1111546',\n",
       " u'MR687266',\n",
       " u'MR671767',\n",
       " u'MR794406',\n",
       " u'MR199039',\n",
       " u'MR898463',\n",
       " u'MR1015517',\n",
       " u'MR137745',\n",
       " u'MR921695',\n",
       " u'MR984248',\n",
       " u'MR831053',\n",
       " u'MR1029435',\n",
       " u'MR331663',\n",
       " u'MR746899',\n",
       " u'MR1039280',\n",
       " u'MR807518',\n",
       " u'MR341957',\n",
       " u'MR1126832',\n",
       " u'MR360507',\n",
       " u'MR215170',\n",
       " u'MR1034245',\n",
       " u'MR70100',\n",
       " u'MR833829',\n",
       " u'MR1073329',\n",
       " u'MR759027',\n",
       " u'MR1032228',\n",
       " u'MR38785',\n",
       " u'MR184255',\n",
       " u'MR796093',\n",
       " u'MR979787',\n",
       " u'MR349512',\n",
       " u'MR1026380',\n",
       " u'MR611391',\n",
       " u'MR891559',\n",
       " u'MR885824',\n",
       " u'MR328097',\n",
       " u'MR329207',\n",
       " u'MR815548',\n",
       " u'MR1084949',\n",
       " u'MR308303',\n",
       " u'MR1100571',\n",
       " u'MR717335',\n",
       " u'MR912405',\n",
       " u'MR1100669',\n",
       " u'MR905864',\n",
       " u'MR600076',\n",
       " u'MR1083206',\n",
       " u'MR972745',\n",
       " u'MR672424',\n",
       " u'MR874289',\n",
       " u'MR995877',\n",
       " u'MR100420',\n",
       " u'MR992983',\n",
       " u'MR291438',\n",
       " u'MR223997',\n",
       " u'MR343511',\n",
       " u'MR1069075',\n",
       " u'MR835451',\n",
       " u'MR913559',\n",
       " u'MR772278',\n",
       " u'MR1064668',\n",
       " u'MR1093359',\n",
       " u'MR675963',\n",
       " u'MR932049',\n",
       " u'MR802618',\n",
       " u'MR842738',\n",
       " u'MR89710',\n",
       " u'MR39080',\n",
       " u'MR1086162',\n",
       " u'MR1001390',\n",
       " u'MR983316',\n",
       " u'MR1010243',\n",
       " u'MR969784',\n",
       " u'MR307438',\n",
       " u'MR1000078',\n",
       " u'MR135835',\n",
       " u'MR852777',\n",
       " u'MR963283',\n",
       " u'MR993178',\n",
       " u'MR1023146',\n",
       " u'MR308447',\n",
       " u'MR816454',\n",
       " u'MR905915',\n",
       " u'MR710778',\n",
       " u'MR1056878',\n",
       " u'MR36095',\n",
       " u'MR219677',\n",
       " u'MR1001357',\n",
       " u'MR260394',\n",
       " u'MR822577',\n",
       " u'MR1070495',\n",
       " u'MR1084560',\n",
       " u'MR690516',\n",
       " u'MR117090',\n",
       " u'MR219274',\n",
       " u'MR162625',\n",
       " u'MR663249',\n",
       " u'MR146355',\n",
       " u'MR890605',\n",
       " u'MR777371',\n",
       " u'MR751178',\n",
       " u'MR1111536',\n",
       " u'MR978328',\n",
       " u'MR627760',\n",
       " u'MR874529',\n",
       " u'MR719537',\n",
       " u'MR642261',\n",
       " u'MR1100607',\n",
       " u'MR1134962',\n",
       " u'MR346629',\n",
       " u'MR1101607',\n",
       " u'MR658371',\n",
       " u'MR898909',\n",
       " u'MR870581',\n",
       " u'MR987073',\n",
       " u'MR756450',\n",
       " u'MR307032',\n",
       " u'MR973224',\n",
       " u'MR1057783',\n",
       " u'MR832440',\n",
       " u'MR896775',\n",
       " u'MR940067',\n",
       " u'MR931316',\n",
       " u'MR925092',\n",
       " u'MR690777',\n",
       " u'MR905553',\n",
       " u'MR201087',\n",
       " u'MR673281',\n",
       " u'MR602134',\n",
       " u'MR333845',\n",
       " u'MR942053',\n",
       " u'MR605373',\n",
       " u'MR130560',\n",
       " u'MR874045',\n",
       " u'MR652687',\n",
       " u'MR1079618',\n",
       " u'MR1061548',\n",
       " u'MR940734',\n",
       " u'MR751601']"
      ]
     },
     "execution_count": 42,
     "metadata": {},
     "output_type": "execute_result"
    }
   ],
   "source": [
    "paper_set.keys()"
   ]
  },
  {
   "cell_type": "code",
   "execution_count": 46,
   "metadata": {
    "collapsed": false
   },
   "outputs": [
    {
     "data": {
      "text/plain": [
       "[{u'article_id': u'MR3459164',\n",
       "  u'article_link': u'/mathscinet/search/publdoc.html?extend=1&pg1=INDI&s1=846369&vfpref=html&r=1&mx-pid=3459164',\n",
       "  u'article_title': u'Andersen, J\\xf8rgen Ellegaard;Masulli, Paolo;Sch\\xe4tz, FlorianFormal connections for families of star products.Comm. Math. Phys.342(2016),no. 2,739\\u2013768.53D55',\n",
       "  u'authors': [u'604180', u'1146982', u'846369'],\n",
       "  'citing': [],\n",
       "  u'year': 2016},\n",
       " {u'article_id': u'MR3333093',\n",
       "  u'article_link': u'/mathscinet/search/publdoc.html?extend=1&pg1=INDI&s1=846369&vfpref=html&r=2&mx-pid=3333093',\n",
       "  u'article_title': u'Arias Abad, Camilo;Sch\\xe4tz, FlorianHigher holonomies: comparing two constructions.Differential Geom. Appl.40(2015),14\\u201342. (Reviewer: Miroslav Doupovec)53C07 (58H05)',\n",
       "  u'authors': [u'960166', u'846369'],\n",
       "  'citing': [],\n",
       "  u'year': 2015},\n",
       " {u'article_id': u'MR3264783',\n",
       "  u'article_link': u'/mathscinet/search/publdoc.html?extend=1&pg1=INDI&s1=846369&vfpref=html&r=3&mx-pid=3264783',\n",
       "  u'article_title': u'Crainic, Marius;Sch\\xe4tz, Florian;Struchiner, IvanA survey on stability and rigidity results for Lie algebras.Indag. Math. (N.S.)25(2014),no. 5,957\\u2013976. (Reviewer: Rosa Mar\\xeda Navarro)17B56',\n",
       "  u'authors': [u'627607', u'846369', u'866862'],\n",
       "  'citing': [],\n",
       "  u'year': 2014},\n",
       " {u'article_id': u'MR3258695',\n",
       "  u'article_link': u'/mathscinet/search/publdoc.html?extend=1&pg1=INDI&s1=846369&vfpref=html&r=4&mx-pid=3258695',\n",
       "  u'article_title': u'Arias Abad, Camilo;Sch\\xe4tz, FlorianReidemeister torsion for flat superconnections.J. Homotopy Relat. Struct.9(2014),no. 2,579\\u2013606. (Reviewer: Cenap \\xd6zel)57Q10 (53B15)',\n",
       "  u'authors': [u'960166', u'846369'],\n",
       "  'citing': [],\n",
       "  u'year': 2014},\n",
       " {u'article_id': u'MR3192766',\n",
       "  u'article_link': u'/mathscinet/search/publdoc.html?extend=1&pg1=INDI&s1=846369&vfpref=html&r=5&mx-pid=3192766',\n",
       "  u'article_title': u'Arias Abad, Camilo;Sch\\xe4tz, FlorianHolonomies for connections with values in$L_\\\\infty$L_\\\\infty-algebras.Homology Homotopy Appl.16(2014),no. 1,89\\u2013118. (Reviewer: Matthias Wendt)55R65 (18G55 55R80)',\n",
       "  u'authors': [u'960166', u'846369'],\n",
       "  'citing': [],\n",
       "  u'year': 2014},\n",
       " {u'article_id': u'MR3090711',\n",
       "  u'article_link': u'/mathscinet/search/publdoc.html?extend=1&pg1=INDI&s1=846369&vfpref=html&r=6&mx-pid=3090711',\n",
       "  u'article_title': u'Arias Abad, Camilo;Sch\\xe4tz, FlorianThe$\\\\ssf{A}_\\\\infty$\\\\ssf{A}_\\\\inftyde Rham theorem and integration of  representations up to homotopy.Int. Math. Res. Not. IMRN2013,no. 16,3790\\u20133855. (Reviewer: Zhuo Chen)53D17 (11H06 58H05)',\n",
       "  u'authors': [u'960166', u'846369'],\n",
       "  'citing': [{'article_id': u'MR3451921',\n",
       "    'article_link': u'/mathscinet/search/publdoc.html?amp=&extend=1&loc=refcit&refcit=3090711&vfpref=html&r=1&mx-pid=3451921',\n",
       "    'article_title': u'Bursztyn, Henrique;Cabrera, Alejandro;del Hoyo, MatiasVector bundles over Lie groupoids and algebroids.Adv. Math.290(2016),163\\u2013207. (Reviewer: Iakovos Androulidakis)53D17',\n",
       "    'authors': [u'673924', u'787400', u'841736'],\n",
       "    'year': 2016},\n",
       "   {'article_id': u'MR3333093',\n",
       "    'article_link': u'/mathscinet/search/publdoc.html?amp=&extend=1&loc=refcit&refcit=3090711&vfpref=html&r=2&mx-pid=3333093',\n",
       "    'article_title': u'Arias Abad, Camilo;Sch\\xe4tz, FlorianHigher holonomies: comparing two constructions.Differential Geom. Appl.40(2015),14\\u201342. (Reviewer: Miroslav Doupovec)53C07 (58H05)',\n",
       "    'authors': [u'960166', u'846369'],\n",
       "    'year': 2015},\n",
       "   {'article_id': u'MR3258695',\n",
       "    'article_link': u'/mathscinet/search/publdoc.html?amp=&extend=1&loc=refcit&refcit=3090711&vfpref=html&r=3&mx-pid=3258695',\n",
       "    'article_title': u'Arias Abad, Camilo;Sch\\xe4tz, FlorianReidemeister torsion for flat superconnections.J. Homotopy Relat. Struct.9(2014),no. 2,579\\u2013606. (Reviewer: Cenap \\xd6zel)57Q10 (53B15)',\n",
       "    'authors': [u'960166', u'846369'],\n",
       "    'year': 2014},\n",
       "   {'article_id': u'MR3192766',\n",
       "    'article_link': u'/mathscinet/search/publdoc.html?amp=&extend=1&loc=refcit&refcit=3090711&vfpref=html&r=4&mx-pid=3192766',\n",
       "    'article_title': u'Arias Abad, Camilo;Sch\\xe4tz, FlorianHolonomies for connections with values in$L_\\\\infty$L_\\\\infty-algebras.Homology Homotopy Appl.16(2014),no. 1,89\\u2013118. (Reviewer: Matthias Wendt)55R65 (18G55 55R80)',\n",
       "    'authors': [u'960166', u'846369'],\n",
       "    'year': 2014}],\n",
       "  u'year': 2013},\n",
       " {u'article_id': u'MR3061506',\n",
       "  u'article_link': u'/mathscinet/search/publdoc.html?extend=1&pg1=INDI&s1=846369&vfpref=html&r=7&mx-pid=3061506',\n",
       "  u'article_title': u'Sch\\xe4tz, Florian;Zambon, MarcoDeformations of coisotropic submanifolds for fibrewise entire Poisson  structures.Lett. Math. Phys.103(2013),no. 7,777\\u2013791.53D17 (17A42)',\n",
       "  u'authors': [u'846369', u'773698'],\n",
       "  'citing': [{'article_id': u'MR3406444',\n",
       "    'article_link': u'/mathscinet/search/publdoc.html?amp=&extend=1&loc=refcit&refcit=3061506&vfpref=html&r=1&mx-pid=3406444',\n",
       "    'article_title': u'Fr\\xe9gier, Ya\\xebl;Zambon, MarcoSimultaneous deformations and Poisson geometry.Compos. Math.151(2015),no. 9,1763\\u20131790.17B55 (53D17 53D18 58A50 58H15)',\n",
       "    'authors': [u'750313', u'773698'],\n",
       "    'year': 2015},\n",
       "   {'article_id': u'MR3320220',\n",
       "    'article_link': u'/mathscinet/search/publdoc.html?amp=&extend=1&loc=refcit&refcit=3061506&vfpref=html&r=2&mx-pid=3320220',\n",
       "    'article_title': u'Bandiera, RuggeroNonabelian higher derived brackets.J. Pure Appl. Algebra219(2015),no. 8,3292\\u20133313.17B55',\n",
       "    'authors': [u'1102956'],\n",
       "    'year': 2015},\n",
       "   {'article_id': u'MR3231711',\n",
       "    'article_link': u'/mathscinet/search/publdoc.html?amp=&extend=1&loc=refcit&refcit=3061506&vfpref=html&r=3&mx-pid=3231711',\n",
       "    'article_title': u'Ji, XiangSimultaneous deformations of a Lie algebroid and its Lie  subalgebroid.J. Geom. Phys.84(2014),8\\u201329. (Reviewer: Panagiotis Batakidis)17B56 (58H05)',\n",
       "    'authors': [u'1070275'],\n",
       "    'year': 2014}],\n",
       "  u'year': 2013},\n",
       " {u'article_id': u'MR2853613',\n",
       "  u'article_link': u'/mathscinet/search/publdoc.html?extend=1&pg1=INDI&s1=846369&vfpref=html&r=8&mx-pid=2853613',\n",
       "  u'article_title': u'Arias Abad, Camilo;Sch\\xe4tz, FlorianDeformations of Lie brackets and representations up to homotopy.Indag. Math. (N.S.)22(2011),no. 1-2,27\\u201354. (Reviewer: David Iglesias Ponte)58H15 (17B55 18G35 58H05)',\n",
       "  u'authors': [u'960166', u'846369'],\n",
       "  'citing': [{'article_id': u'MR3451921',\n",
       "    'article_link': u'/mathscinet/search/publdoc.html?amp=&extend=1&loc=refcit&refcit=2853613&vfpref=html&r=1&mx-pid=3451921',\n",
       "    'article_title': u'Bursztyn, Henrique;Cabrera, Alejandro;del Hoyo, MatiasVector bundles over Lie groupoids and algebroids.Adv. Math.290(2016),163\\u2013207. (Reviewer: Iakovos Androulidakis)53D17',\n",
       "    'authors': [u'673924', u'787400', u'841736'],\n",
       "    'year': 2016},\n",
       "   {'article_id': u'MR3264789',\n",
       "    'article_link': u'/mathscinet/search/publdoc.html?amp=&extend=1&loc=refcit&refcit=2853613&vfpref=html&r=2&mx-pid=3264789',\n",
       "    'article_title': u'Mehta, Rajan AmitLie algebroid modules and representations up to homotopy.Indag. Math. (N.S.)25(2014),no. 5,1122\\u20131134. (Reviewer: Yunhe Sheng)53D17',\n",
       "    'authors': [u'879416'],\n",
       "    'year': 2014},\n",
       "   {'article_id': u'MR3090711',\n",
       "    'article_link': u'/mathscinet/search/publdoc.html?amp=&extend=1&loc=refcit&refcit=2853613&vfpref=html&r=3&mx-pid=3090711',\n",
       "    'article_title': u'Arias Abad, Camilo;Sch\\xe4tz, FlorianThe$\\\\ssf{A}_\\\\infty$\\\\ssf{A}_\\\\inftyde Rham theorem and integration of  representations up to homotopy.Int. Math. Res. Not. IMRN2013,no. 16,3790\\u20133855. (Reviewer: Zhuo Chen)53D17 (11H06 58H05)',\n",
       "    'authors': [u'960166', u'846369'],\n",
       "    'year': 2013},\n",
       "   {'article_id': u'MR3017063',\n",
       "    'article_link': u'/mathscinet/search/publdoc.html?amp=&extend=1&loc=refcit&refcit=2853613&vfpref=html&r=4&mx-pid=3017063',\n",
       "    'article_title': u'Uribe, BernardoGroup actions on dg-manifolds and exact Courant algebroids.Comm. Math. Phys.318(2013),no. 1,35\\u201367. (Reviewer: Anargyros Fellouris)58C50 (17A32)',\n",
       "    'authors': [u'708291'],\n",
       "    'year': 2013}],\n",
       "  u'year': 2011},\n",
       " {u'article_id': u'MR2819233',\n",
       "  u'article_link': u'/mathscinet/search/publdoc.html?extend=1&pg1=INDI&s1=846369&vfpref=html&r=9&mx-pid=2819233',\n",
       "  u'article_title': u'Cattaneo, Alberto S.;Sch\\xe4tz, FlorianIntroduction to supergeometry.Rev. Math. Phys.23(2011),no. 6,669\\u2013690. (Reviewer: Frank Klinker)58A50 (53D05)',\n",
       "  u'authors': [u'340802', u'846369'],\n",
       "  'citing': [{'article_id': u'MR3453885',\n",
       "    'article_link': u'/mathscinet/search/publdoc.html?amp=&extend=1&loc=refcit&refcit=2819233&vfpref=html&r=1&mx-pid=3453885',\n",
       "    'article_title': u'Bruce, Andrew James;Grabowska, Katarzyna;Grabowski, JanuszLinear duals of graded bundles and higher analogues of (Lie)  algebroids.J. Geom. Phys.101(2016),71\\u201399.53C10 (53D17 55R10 58A50)',\n",
       "    'authors': [u'921281', u'690800', u'204202'],\n",
       "    'year': 2016},\n",
       "   {'article_id': u'MR3406444',\n",
       "    'article_link': u'/mathscinet/search/publdoc.html?amp=&extend=1&loc=refcit&refcit=2819233&vfpref=html&r=2&mx-pid=3406444',\n",
       "    'article_title': u'Fr\\xe9gier, Ya\\xebl;Zambon, MarcoSimultaneous deformations and Poisson geometry.Compos. Math.151(2015),no. 9,1763\\u20131790.17B55 (53D17 53D18 58A50 58H15)',\n",
       "    'authors': [u'750313', u'773698'],\n",
       "    'year': 2015},\n",
       "   {'article_id': u'MR3390025',\n",
       "    'article_link': u'/mathscinet/search/publdoc.html?amp=&extend=1&loc=refcit&refcit=2819233&vfpref=html&r=3&mx-pid=3390025',\n",
       "    'article_title': u'Fr\\xe9gier, Ya\\xebl;Zambon, MarcoSimultaneous deformations of algebras and morphisms via derived  brackets.J. Pure Appl. Algebra219(2015),no. 12,5344\\u20135362. (Reviewer: Elena Poletaeva)17B55 (17B70 58H15)',\n",
       "    'authors': [u'750313', u'773698'],\n",
       "    'year': 2015},\n",
       "   {'article_id': u'MR3385989',\n",
       "    'article_link': u'/mathscinet/search/publdoc.html?amp=&extend=1&loc=refcit&refcit=2819233&vfpref=html&r=4&mx-pid=3385989',\n",
       "    'article_title': u'Deser, Andreas;Stasheff, JimEven symplectic supermanifolds and double field theory.Comm. Math. Phys.339(2015),no. 3,1003\\u20131020. (Reviewer: Mircea Crasmareanu)53D17 (58A50)',\n",
       "    'authors': [u'946980', u'166455'],\n",
       "    'year': 2015},\n",
       "   {'article_id': u'MR3300319',\n",
       "    'article_link': u'/mathscinet/search/publdoc.html?amp=&extend=1&loc=refcit&refcit=2819233&vfpref=html&r=5&mx-pid=3300319',\n",
       "    'article_title': u'Vitagliano, LucaRepresentations of homotopy Lie-Rinehart algebras.Math. Proc. Cambridge Philos. Soc.158(2015),no. 1,155\\u2013191. (Reviewer: Christopher L. Rogers)17B55 (53D17)',\n",
       "    'authors': [u'714064'],\n",
       "    'year': 2015},\n",
       "   {'article_id': u'MR3390513',\n",
       "    'article_link': u'/mathscinet/search/publdoc.html?amp=&extend=1&loc=refcit&refcit=2819233&vfpref=html&r=6&mx-pid=3390513',\n",
       "    'article_title': u'Ikeda, Noriaki;Xu, XiaomengCanonical functions, differential graded symplectic pairs in  supergeometry, and Alexandrov-Kontsevich-Schwartz-Zaboronsky sigma models with  boundaries.J. Math. Phys.55(2014),no. 11,113505, 21 pp. (Reviewer: Ryan E. Grady)58A50 (53D17)',\n",
       "    'authors': [u'318348', u'1066555'],\n",
       "    'year': 2014},\n",
       "   {'article_id': u'MR3264789',\n",
       "    'article_link': u'/mathscinet/search/publdoc.html?amp=&extend=1&loc=refcit&refcit=2819233&vfpref=html&r=7&mx-pid=3264789',\n",
       "    'article_title': u'Mehta, Rajan AmitLie algebroid modules and representations up to homotopy.Indag. Math. (N.S.)25(2014),no. 5,1122\\u20131134. (Reviewer: Yunhe Sheng)53D17',\n",
       "    'authors': [u'879416'],\n",
       "    'year': 2014},\n",
       "   {'article_id': u'MR3257656',\n",
       "    'article_link': u'/mathscinet/search/publdoc.html?amp=&extend=1&loc=refcit&refcit=2819233&vfpref=html&r=8&mx-pid=3257656',\n",
       "    'article_title': u'Cattaneo, Alberto S.;Mnev, Pavel;Reshetikhin, NicolaiClassical BV theories on manifolds with boundary.Comm. Math. Phys.332(2014),no. 2,535\\u2013603. (Reviewer: Ryan E. Grady)81T13 (83F05)',\n",
       "    'authors': [u'340802', u'792783', u'147195'],\n",
       "    'year': 2014},\n",
       "   {'article_id': u'MR3231711',\n",
       "    'article_link': u'/mathscinet/search/publdoc.html?amp=&extend=1&loc=refcit&refcit=2819233&vfpref=html&r=9&mx-pid=3231711',\n",
       "    'article_title': u'Ji, XiangSimultaneous deformations of a Lie algebroid and its Lie  subalgebroid.J. Geom. Phys.84(2014),8\\u201329. (Reviewer: Panagiotis Batakidis)17B56 (58H05)',\n",
       "    'authors': [u'1070275'],\n",
       "    'year': 2014},\n",
       "   {'article_id': u'MR3061503',\n",
       "    'article_link': u'/mathscinet/search/publdoc.html?amp=&extend=1&loc=refcit&refcit=2819233&vfpref=html&r=10&mx-pid=3061503',\n",
       "    'article_title': u'Mehta, Rajan AmitDifferential graded contact geometry and Jacobi structures.Lett. Math. Phys.103(2013),no. 7,729\\u2013741. (Reviewer: Boris A. Khesin)57R17 (53D17 58A50)',\n",
       "    'authors': [u'879416'],\n",
       "    'year': 2013},\n",
       "   {'article_id': u'MR3004022',\n",
       "    'article_link': u'/mathscinet/search/publdoc.html?amp=&extend=1&loc=refcit&refcit=2819233&vfpref=html&r=11&mx-pid=3004022',\n",
       "    'article_title': u'Zambon, Marco;Zhu, ChenchangHigher Lie algebra actions on Lie algebroids.J. Geom. Phys.64(2013),155\\u2013173. (Reviewer: Jos\\xe9 A. Vallejo)53D17 (18D35 58A50)',\n",
       "    'authors': [u'773698', u'738156'],\n",
       "    'year': 2013},\n",
       "   {'article_id': u'MR3011897',\n",
       "    'article_link': u'/mathscinet/search/publdoc.html?amp=&extend=1&loc=refcit&refcit=2819233&vfpref=html&r=12&mx-pid=3011897',\n",
       "    'article_title': u'Zambon, Marco;Zhu, ChenchangDistributions and quotients on degree 1 NQ-manifolds and Lie  algebroids.J. Geom. Mech.4(2012),no. 4,469\\u2013485. (Reviewer: Jos\\xe9 A. Vallejo)53D17 (18D35 58A50)',\n",
       "    'authors': [u'773698', u'738156'],\n",
       "    'year': 2012},\n",
       "   {'article_id': u'MR2996854',\n",
       "    'article_link': u'/mathscinet/search/publdoc.html?amp=&extend=1&loc=refcit&refcit=2819233&vfpref=html&r=13&mx-pid=2996854',\n",
       "    'article_title': u'Mehta, Rajan Amit;Zambon, Marco$L_\\\\infty$L_\\\\infty-algebra actions.Differential Geom. Appl.30(2012),no. 6,576\\u2013587. (Reviewer: Florian Sch\\xe4tz)53D17 (17B66 58A50)',\n",
       "    'authors': [u'879416', u'773698'],\n",
       "    'year': 2012},\n",
       "   {'article_id': u'MR2982023',\n",
       "    'article_link': u'/mathscinet/search/publdoc.html?amp=&extend=1&loc=refcit&refcit=2819233&vfpref=html&r=14&mx-pid=2982023',\n",
       "    'article_title': u'Zambon, Marco$L_\\\\infty$L_\\\\infty-algebras and higher analogues of Dirac structures and  Courant algebroids.J. Symplectic Geom.10(2012),no. 4,563\\u2013599. (Reviewer: Cristi\\xe1n Ortiz)53D17 (17A42 58A99)',\n",
       "    'authors': [u'773698'],\n",
       "    'year': 2012}],\n",
       "  u'year': 2011},\n",
       " {u'article_id': u'MR2786466',\n",
       "  u'article_link': u'/mathscinet/search/publdoc.html?extend=1&pg1=INDI&s1=846369&vfpref=html&r=10&mx-pid=2786466',\n",
       "  u'article_title': u'Sch\\xe4tz, FlorianModuli of coisotropic sections and the BFV-complex.Asian J. Math.15(2011),no. 1,71\\u2013100. (Reviewer: James M. Turner)53D17 (16E45 18G55 18G60)',\n",
       "  u'authors': [u'846369'],\n",
       "  'citing': [],\n",
       "  u'year': 2011},\n",
       " {u'article_id': u'MR2741257',\n",
       "  u'article_link': u'/mathscinet/search/publdoc.html?extend=1&pg1=INDI&s1=846369&vfpref=html&r=11&mx-pid=2741257',\n",
       "  u'article_title': u'Sch\\xe4tz, FlorianInvariance of the BFV complex.Pacific J. Math.248(2010),no. 2,453\\u2013474. (Reviewer: James M. Turner)53D17 (17B60 18G60)',\n",
       "  u'authors': [u'846369'],\n",
       "  u'year': 0},\n",
       " {u'article_id': u'MR2472031',\n",
       "  u'article_link': u'/mathscinet/search/publdoc.html?extend=1&pg1=INDI&s1=846369&vfpref=html&r=12&mx-pid=2472031',\n",
       "  u'article_title': u'Sch\\xe4tz, FlorianBFV-complex and higher homotopy structures.Comm. Math. Phys.286(2009),no. 2,399\\u2013443. (Reviewer: James M. Turner)53D17 (18G55 55U99 58H15)',\n",
       "  u'authors': [u'846369'],\n",
       "  u'year': 0},\n",
       " {u'article_id': u'MR2440258',\n",
       "  u'article_link': u'/mathscinet/search/publdoc.html?extend=1&pg1=INDI&s1=846369&vfpref=html&r=13&mx-pid=2440258',\n",
       "  u'article_title': u'Cattaneo, Alberto S.;Sch\\xe4tz, FlorianEquivalences of higher derived brackets.J. Pure Appl. Algebra212(2008),no. 11,2450\\u20132460. (Reviewer: Jeffrey K. Lawson)53D17 (16E45 17B63 17B70 17B81 18G55)',\n",
       "  u'authors': [u'340802', u'846369'],\n",
       "  u'year': 0}]"
      ]
     },
     "execution_count": 46,
     "metadata": {},
     "output_type": "execute_result"
    }
   ],
   "source": [
    "paper_set['MR846369']"
   ]
  },
  {
   "cell_type": "markdown",
   "metadata": {},
   "source": [
    "### 2. Retrieving citations"
   ]
  },
  {
   "cell_type": "code",
   "execution_count": 36,
   "metadata": {
    "collapsed": false
   },
   "outputs": [
    {
     "name": "stderr",
     "output_type": "stream",
     "text": [
      "0%                                                                  100%\n",
      "[██████████████████████████████████████████████████████████████████████] | ETA: 00:00:00\n",
      "Total time elapsed: 00:21:05\n"
     ]
    }
   ],
   "source": [
    "bar = pyprind.ProgBar(count_2011, bar_char='█', width=70)\n",
    "\n",
    "for mathsci_id in paper_set_2011.keys():\n",
    "    \n",
    "    for paper in paper_set_2011[mathsci_id]:\n",
    "        bar.update()\n",
    "        paper['citing'] = mathscinet.find_parent_citations(paper['article_id'])"
   ]
  },
  {
   "cell_type": "code",
   "execution_count": 37,
   "metadata": {
    "collapsed": true
   },
   "outputs": [],
   "source": [
    "with open(\"mathscinet_paper_base_with_citation.json\", \"wb\") as f:\n",
    "    json.dump(paper_set_2011, f)"
   ]
  },
  {
   "cell_type": "code",
   "execution_count": 38,
   "metadata": {
    "collapsed": true
   },
   "outputs": [],
   "source": [
    "with open(\"mathscinet_paper_base_with_citation.json\", \"rb\") as f:\n",
    "    paper_set_2011 = json.load(f)"
   ]
  },
  {
   "cell_type": "markdown",
   "metadata": {},
   "source": [
    "### 3. Updating the profile accordingly "
   ]
  },
  {
   "cell_type": "code",
   "execution_count": 39,
   "metadata": {
    "collapsed": false
   },
   "outputs": [],
   "source": [
    "# build mapping id_converter: mathsci_id -> member_id\n",
    "\n",
    "id_converter = {}\n",
    "\n",
    "for person in orig_profile['items']:\n",
    "    id_converter[person['mathsci_id']] = person['member_id']"
   ]
  },
  {
   "cell_type": "markdown",
   "metadata": {},
   "source": [
    "#### 3.1 Update collaborator"
   ]
  },
  {
   "cell_type": "code",
   "execution_count": 40,
   "metadata": {
    "collapsed": true
   },
   "outputs": [],
   "source": [
    "def update_collaborators(cprofile, cpaper_set, starting_year, ending_year, converter):\n",
    "    col_key = \"%s-%s collaborators stats\" % (str(starting_year), str(ending_year))\n",
    "    print col_key\n",
    "    for person in cprofile['items']:\n",
    "        \n",
    "        collab_list = []\n",
    "        \n",
    "        mathsci_id = person['mathsci_id']\n",
    "        if mathsci_id == \"NA\":\n",
    "            continue\n",
    "        for paper in cpaper_set[mathsci_id]:\n",
    "            year = paper['year']\n",
    "            if year < starting_year or year > ending_year:\n",
    "                continue\n",
    "            authors = [\"MR\"+au for au in paper['authors']]\n",
    "            for au in authors:\n",
    "                if au in converter:\n",
    "                    collab_list.append(converter[au])\n",
    "                    \n",
    "        person[col_key] = dict(collections.Counter(collab_list))\n",
    "        \n",
    "    print \"Done\""
   ]
  },
  {
   "cell_type": "code",
   "execution_count": 41,
   "metadata": {
    "collapsed": false
   },
   "outputs": [
    {
     "name": "stdout",
     "output_type": "stream",
     "text": [
      "2011-2011 collaborators stats\n",
      "Done\n",
      "2011-2012 collaborators stats\n",
      "Done\n",
      "2011-2013 collaborators stats\n",
      "Done\n",
      "2011-2014 collaborators stats\n",
      "Done\n",
      "2011-2015 collaborators stats\n",
      "Done\n"
     ]
    }
   ],
   "source": [
    "for ending_year in range(2011, 2016):\n",
    "    update_collaborators(orig_profile, paper_set_2011, 2011, ending_year, id_converter)"
   ]
  },
  {
   "cell_type": "markdown",
   "metadata": {},
   "source": [
    "#### 3.2 Update citation"
   ]
  },
  {
   "cell_type": "code",
   "execution_count": null,
   "metadata": {
    "collapsed": false
   },
   "outputs": [],
   "source": [
    "def retrieve_citations(person, cpaper_set, starting_year, ending_year):\n",
    "    \n",
    "    mathsci_id = person['mathsci_id']\n",
    "    \n",
    "    ret = []\n",
    "    \n",
    "    if mathsci_id == \"NA\":\n",
    "        return ret\n",
    "    \n",
    "    paper_list = cpaper_set[mathsci_id]\n",
    "    \n",
    "    for paper in paper_list:\n",
    "        year = paper['year']\n",
    "        if year < starting_year or year > ending_year:\n",
    "            continue\n",
    "        ret.extend(paper['citing'])\n",
    "        \n",
    "    return ret"
   ]
  },
  {
   "cell_type": "code",
   "execution_count": null,
   "metadata": {
    "collapsed": true
   },
   "outputs": [],
   "source": [
    "def list_overlap(list_a, list_b):\n",
    "\n",
    "    a_multiset = collections.Counter(list_a)\n",
    "    b_multiset = collections.Counter(list_b)\n",
    "\n",
    "    overlap = list((a_multiset & b_multiset).elements())\n",
    "    \n",
    "    return overlap"
   ]
  },
  {
   "cell_type": "code",
   "execution_count": null,
   "metadata": {
    "collapsed": true
   },
   "outputs": [],
   "source": [
    "def update_citations(cprofile, cpaper_set, starting_year, ending_year, converter):\n",
    "    \n",
    "    cit_key = \"%s-%s citation stats\" % (str(starting_year), str(ending_year))\n",
    "    print cit_key    \n",
    "    \n",
    "    # build member_id -> person mapping\n",
    "    temp_profile = {}\n",
    "    for person in cprofile['items']:\n",
    "        member_id = person['member_id']\n",
    "        temp_profile[member_id] = person\n",
    "        \n",
    "    au_list = temp_profile.keys()\n",
    "\n",
    "    for person in cprofile['items']:\n",
    "        person[cit_key] = {}\n",
    "        \n",
    "        member_id = person['member_id']\n",
    "        \n",
    "        for other_person_id in au_list:\n",
    "            if other_person_id == member_id:\n",
    "                continue\n",
    "            other_person = temp_profile[other_person_id]\n",
    "            \n",
    "            other_person_citation = retrieve_citations(other_person, cpaper_set, starting_year, ending_year)\n",
    "            this_person_citation = retrieve_citations(person, cpaper_set, starting_year, ending_year)\n",
    "\n",
    "            weight = len(list_overlap(other_person_citation, this_person_citation))\n",
    "            if weight != 0:\n",
    "                person[cit_key][other_person_id] = weight\n",
    "            \n",
    "    print \"Done\""
   ]
  },
  {
   "cell_type": "code",
   "execution_count": null,
   "metadata": {
    "collapsed": false
   },
   "outputs": [],
   "source": [
    "for ending_year in range(2011, 2016):\n",
    "    update_citations(orig_profile, paper_set_2011, 2011, ending_year, id_converter)"
   ]
  },
  {
   "cell_type": "code",
   "execution_count": null,
   "metadata": {
    "collapsed": false
   },
   "outputs": [],
   "source": [
    "orig_profile"
   ]
  },
  {
   "cell_type": "code",
   "execution_count": null,
   "metadata": {
    "collapsed": true
   },
   "outputs": [],
   "source": []
  },
  {
   "cell_type": "markdown",
   "metadata": {},
   "source": [
    "# Visualize"
   ]
  },
  {
   "cell_type": "code",
   "execution_count": null,
   "metadata": {
    "collapsed": false
   },
   "outputs": [],
   "source": [
    "#The package which handles the graph objects\n",
    "import networkx as nx\n",
    "\n",
    "# Matplotlib is the default package for\n",
    "# rendering the graphs\n",
    "import matplotlib.pyplot as plt\n",
    "\n",
    "def simple_graph(profile):\n",
    "\n",
    "    #create an empty graph\n",
    "    G = nx.Graph()\n",
    "    \n",
    "    name_mapping = {}\n",
    "    \n",
    "    for person in profile['items']:\n",
    "        aid = person['member_id']\n",
    "        name = person['name']\n",
    "        surname = person['surname']\n",
    "        name_mapping[aid] = name + \" \" + surname\n",
    "        \n",
    "    for person in profile['items']:\n",
    "        aid = person['member_id']\n",
    "        cite = person['2011-2015 citation stats']\n",
    "        for au in cite.keys():\n",
    "            edge = (aid, au)\n",
    "            # name_edge = (name_mapping[aid], name_mapping[au])\n",
    "            # G.add_edge(name_edge[0], name_edge[1])\n",
    "            G.add_edge(str(edge[0]), str(edge[1]))\n",
    "    \n",
    "    #draw the graph\n",
    "    nx.draw(G)\n",
    "    # plt.savefig(\"graph.png\", dpi=1000)\n",
    "    #show\n",
    "    plt.show()\n",
    "\n",
    "    app = Viewer(G)\n",
    "    app.mainloop()\n",
    "simple_graph(orig_profile)"
   ]
  },
  {
   "cell_type": "code",
   "execution_count": null,
   "metadata": {
    "collapsed": true
   },
   "outputs": [],
   "source": [
    "def similarity_calculator(first, second):\n",
    "    #if type(first) is not unicode:\n",
    "    #    first = unicode(first, 'utf-8')\n",
    "    #if type(second) is not unicode:\n",
    "    #    second = unicode(second, 'utf-8')\n",
    "\n",
    "\n",
    "    # 1. fuzzy matcher\n",
    "    fr = fuzz.ratio(first, second)\n",
    "    pr = fuzz.partial_ratio(first, second)\n",
    "    sor = fuzz.token_sort_ratio(first, second)\n",
    "    ser = fuzz.token_set_ratio(first, second)    \n",
    "    \n",
    "    # 2. sequence similarity\n",
    "    s = difflib.SequenceMatcher(lambda x: x == \" \", first, second)\n",
    "    seq = round(s.ratio(), 3)\n",
    "    \n",
    "    # 3. edit distance\n",
    "    # 3.1 absolute\n",
    "    try:\n",
    "        lv_ab = Levenshtein.distance(first, second)\n",
    "    except:\n",
    "        print \"ooops\", first, second\n",
    "    \n",
    "    # 3.2 jaro\n",
    "    lv_ja = Levenshtein.jaro(first, second)\n",
    "    \n",
    "    # 3.3 jaro_winkler\n",
    "    lv_jaw = Levenshtein.jaro_winkler(first, second)\n",
    "    \n",
    "    # 3.4 ratio\n",
    "    lv_ra = Levenshtein.ratio(first, second)\n",
    "    \n",
    "\n",
    "    # 4 jarcard and \n",
    "    sr = distance.sorensen(first, second)\n",
    "    ja = distance.jaccard(first, second)\n",
    "    print fr, pr, sor, ser, seq, lv_ab, lv_ja, lv_jaw, lv_ra"
   ]
  },
  {
   "cell_type": "code",
   "execution_count": null,
   "metadata": {
    "collapsed": false
   },
   "outputs": [],
   "source": [
    "fuzz.ratio('Andersen, J\\xf8rgen E.; Chekhov, Leonid O.; Penner, R. C.; Reidys, Christian M.; Su\\u0142kowski, Piotr Topological recursion for chord diagrams, RNA complexes, and cells in moduli spaces. Nuclear Phys. B 866 (2013), no. 3, 414\\u2013443.', \\\n",
    "           'Ande J\\xf8rgen E.; Chekhov, Leonid O Penner, R. C.; Reidys, Christian M.; Su\\u0142kowski, Piotr Topological recursion for chord diagrams, RNAcomplexes,and cells in moduli spaces. Nuclear Phys. B 866 (2013), no. 3, 4142013443.')"
   ]
  },
  {
   "cell_type": "markdown",
   "metadata": {},
   "source": [
    "# Computer number of paper they wrote together between y1 and y2"
   ]
  },
  {
   "cell_type": "code",
   "execution_count": null,
   "metadata": {
    "collapsed": true
   },
   "outputs": [],
   "source": [
    "def count_coop(gid1, gid2, y1, y2):\n",
    "    val = 0\n",
    "    aid1 = base[gid1]\n",
    "    aid2 = base[gid2]\n",
    "    # print aid1, aid2\n",
    "    papers_1 = paper_base[aid1]\n",
    "    # papers_2 = paper_base[aid2]\n",
    "    \n",
    "    for paper in papers_1:\n",
    "        if paper['year'] >= y1 and paper['year']<= y2:\n",
    "            if aid2 in paper['authors']:\n",
    "                val += 1\n",
    "    return val\n",
    "    "
   ]
  },
  {
   "cell_type": "code",
   "execution_count": null,
   "metadata": {
    "collapsed": true
   },
   "outputs": [],
   "source": [
    "# 24\n",
    "# 12"
   ]
  },
  {
   "cell_type": "code",
   "execution_count": null,
   "metadata": {
    "collapsed": false
   },
   "outputs": [],
   "source": [
    "count_coop(\"24\",\"12\",1000,2016)"
   ]
  },
  {
   "cell_type": "code",
   "execution_count": null,
   "metadata": {
    "collapsed": false
   },
   "outputs": [],
   "source": [
    "data = {}\n",
    "for a1 in base.keys():\n",
    "    data[a1] = {}\n",
    "    for a2 in base.keys():\n",
    "        if a1 is not a2:\n",
    "            data[a1][a2] = count_coop(a1, a2, 2011, 2011)"
   ]
  },
  {
   "cell_type": "code",
   "execution_count": null,
   "metadata": {
    "collapsed": false
   },
   "outputs": [],
   "source": [
    "with open(\"input.csv\", \"w\") as f:\n",
    "    f.write(\"Source;Target;Weight;Type\\n\")\n",
    "    for a1 in data.keys():\n",
    "        for a2 in data[a1].keys():\n",
    "            if data[a1][a2] > 0:\n",
    "                f.write(a1)\n",
    "                f.write(\";\")\n",
    "                f.write(a2)\n",
    "                f.write(\";\")\n",
    "                f.write(str(data[a1][a2]))\n",
    "                f.write(\";\")\n",
    "                f.write(\"undirected\\n\")"
   ]
  },
  {
   "cell_type": "code",
   "execution_count": null,
   "metadata": {
    "collapsed": false
   },
   "outputs": [],
   "source": [
    "def print_single_year(year):\n",
    "    data = {}\n",
    "    for a1 in base.keys():\n",
    "        data[a1] = {}\n",
    "        for a2 in base.keys():\n",
    "            if a1 is not a2:\n",
    "                data[a1][a2] = count_coop(a1, a2, year, year)\n",
    "                \n",
    "    with open(str(year)+\"_input.csv\", \"w\") as f:\n",
    "        f.write(\"Source;Target;Weight;Type\\n\")\n",
    "        for a1 in data.keys():\n",
    "            for a2 in data[a1].keys():\n",
    "                if data[a1][a2] > 0:\n",
    "                    f.write(a1)\n",
    "                    f.write(\";\")\n",
    "                    f.write(a2)\n",
    "                    f.write(\";\")\n",
    "                    f.write(str(data[a1][a2]))\n",
    "                    f.write(\";\")\n",
    "                    f.write(\"undirected\\n\")"
   ]
  },
  {
   "cell_type": "code",
   "execution_count": null,
   "metadata": {
    "collapsed": true
   },
   "outputs": [],
   "source": [
    "print_single_year(2011)\n",
    "print_single_year(2012)\n",
    "print_single_year(2013)\n",
    "print_single_year(2014)\n",
    "print_single_year(2015)\n",
    "print_single_year(2016)"
   ]
  },
  {
   "cell_type": "markdown",
   "metadata": {
    "collapsed": true
   },
   "source": [
    "# Combine databases"
   ]
  },
  {
   "cell_type": "code",
   "execution_count": null,
   "metadata": {
    "collapsed": true
   },
   "outputs": [],
   "source": [
    "orig = \"Boileau, Michel; Boyer, Steven; Cebanu, Radu; Walsh, Genevieve S. Knot commensurability and the Berge conjecture. Geom. Topol. 16 (2012), no. 2, 625–664.\"\n",
    "new = 'Knot commensurability and the Berge conjecture.'"
   ]
  },
  {
   "cell_type": "code",
   "execution_count": null,
   "metadata": {
    "collapsed": true
   },
   "outputs": [],
   "source": [
    "orig = \"Steven B. Bradlow\"\n",
    "new = \"Bradlow, S\""
   ]
  },
  {
   "cell_type": "code",
   "execution_count": null,
   "metadata": {
    "collapsed": true
   },
   "outputs": [],
   "source": [
    "from fuzzywuzzy import fuzz\n",
    "from fuzzywuzzy import process\n",
    "import math\n",
    "import wikipedia\n",
    "import Levenshtein\n",
    "import difflib\n",
    "import distance\n",
    "import textblob\n",
    "import numpy"
   ]
  },
  {
   "cell_type": "code",
   "execution_count": null,
   "metadata": {
    "collapsed": false
   },
   "outputs": [],
   "source": [
    "import json\n",
    "with open(\"papers.json\") as f:\n",
    "    old_base = json.loads(f.read())"
   ]
  },
  {
   "cell_type": "code",
   "execution_count": null,
   "metadata": {
    "collapsed": false
   },
   "outputs": [],
   "source": [
    "old_base.keys()"
   ]
  },
  {
   "cell_type": "code",
   "execution_count": null,
   "metadata": {
    "collapsed": false
   },
   "outputs": [],
   "source": [
    "paper_base"
   ]
  },
  {
   "cell_type": "code",
   "execution_count": null,
   "metadata": {
    "collapsed": false
   },
   "outputs": [],
   "source": [
    "# make a mapping from \n",
    "mapping = {}\n",
    "for key in base.keys():\n",
    "    mapping[base[key]] = key\n",
    "    \n",
    "mapping"
   ]
  },
  {
   "cell_type": "code",
   "execution_count": null,
   "metadata": {
    "collapsed": false
   },
   "outputs": [],
   "source": [
    "# go through paper_base, filter only 2011+ papers\n",
    "\n",
    "out = []\n",
    "for key in paper_base.keys():\n",
    "    paper_list = paper_base[key]\n",
    "    for paper in paper_list:\n",
    "        if paper['year'] >= 2011:\n",
    "            if check_if_coop(paper['authors'], mapping):\n",
    "                newone = {}\n",
    "                newone['collaborator_ids'] = get_ids(paper['authors'], mapping)\n",
    "                newone['date'] = str(paper['year'])\n",
    "                newone['description'] = paper['article_title']\n",
    "                out.append(newone)"
   ]
  },
  {
   "cell_type": "code",
   "execution_count": null,
   "metadata": {
    "collapsed": false
   },
   "outputs": [],
   "source": [
    "out_base = []\n",
    "for unit in out:\n",
    "    f = True\n",
    "    for exi in out_base:\n",
    "        if unit['description'] == exi['description']:\n",
    "            f = False\n",
    "    if f:\n",
    "        out_base.append(unit)\n",
    "        "
   ]
  },
  {
   "cell_type": "code",
   "execution_count": null,
   "metadata": {
    "collapsed": false
   },
   "outputs": [],
   "source": [
    "len(out_base)"
   ]
  },
  {
   "cell_type": "code",
   "execution_count": null,
   "metadata": {
    "collapsed": false
   },
   "outputs": [],
   "source": [
    "out_base"
   ]
  },
  {
   "cell_type": "code",
   "execution_count": null,
   "metadata": {
    "collapsed": true
   },
   "outputs": [],
   "source": [
    "def check_if_coop(authors, mapping):\n",
    "    val = 0\n",
    "    for au in authors:\n",
    "        if au in mapping.keys():\n",
    "            val += 1\n",
    "    if val>=2:\n",
    "        return True\n",
    "    else:\n",
    "        return False\n",
    "    \n",
    "def get_ids(authors, mapping):\n",
    "    ret = []\n",
    "    for au in authors:\n",
    "        if au in mapping.keys():\n",
    "            ret.append(int(mapping[au]))\n",
    "    return ret"
   ]
  },
  {
   "cell_type": "code",
   "execution_count": null,
   "metadata": {
    "collapsed": false
   },
   "outputs": [],
   "source": [
    "# out is auto database\n",
    "# old_base is old database\n",
    "\n",
    "final = []\n",
    "\n",
    "for a in old_base['papers']:\n",
    "    f = True\n",
    "    for b in final:\n",
    "        if title_compare(a, b) is True:\n",
    "            f = False\n",
    "    if f:\n",
    "        final.append(a)\n",
    "        \n",
    "for a in out_base:\n",
    "    f = True\n",
    "    for b in final:\n",
    "        if title_compare(a, b) is True:\n",
    "            f = False\n",
    "    if f:\n",
    "        final.append(a)\n",
    "        \n",
    "        "
   ]
  },
  {
   "cell_type": "code",
   "execution_count": null,
   "metadata": {
    "collapsed": false
   },
   "outputs": [],
   "source": [
    "len(old_base['papers'])"
   ]
  },
  {
   "cell_type": "code",
   "execution_count": null,
   "metadata": {
    "collapsed": false
   },
   "outputs": [],
   "source": [
    "len(final)"
   ]
  },
  {
   "cell_type": "code",
   "execution_count": null,
   "metadata": {
    "collapsed": true
   },
   "outputs": [],
   "source": [
    "def title_compare(a, b):\n",
    "    return fuzz.partial_ratio(a['description'], b['description'])>95"
   ]
  },
  {
   "cell_type": "code",
   "execution_count": null,
   "metadata": {
    "collapsed": true
   },
   "outputs": [],
   "source": [
    "def ids_compare(a, b):\n",
    "    return set(a['collaborator_ids']) == set(b['collaborator_ids'])"
   ]
  },
  {
   "cell_type": "code",
   "execution_count": null,
   "metadata": {
    "collapsed": true
   },
   "outputs": [],
   "source": [
    "def date_compare(a, b):\n",
    "    return a['date'] == b['date']"
   ]
  },
  {
   "cell_type": "code",
   "execution_count": null,
   "metadata": {
    "collapsed": false
   },
   "outputs": [],
   "source": [
    "with open(\"prof.txt\", \"r\") as f:\n",
    "    profile = json.loads(f.read())"
   ]
  },
  {
   "cell_type": "code",
   "execution_count": null,
   "metadata": {
    "collapsed": false
   },
   "outputs": [],
   "source": [
    "for prof in profile['items']:\n",
    "    id = prof['member_id']\n",
    "    try:\n",
    "        prof[u'mathsci_id'] = mapping[id]\n",
    "    except:\n",
    "        prof[u'mathsci_id'] = 0"
   ]
  },
  {
   "cell_type": "code",
   "execution_count": null,
   "metadata": {
    "collapsed": false
   },
   "outputs": [],
   "source": [
    "profile"
   ]
  },
  {
   "cell_type": "code",
   "execution_count": null,
   "metadata": {
    "collapsed": true
   },
   "outputs": [],
   "source": [
    "import json\n",
    "with open('new_profile.json', 'w') as outfile:\n",
    "    json.dump(profile, outfile)"
   ]
  },
  {
   "cell_type": "code",
   "execution_count": null,
   "metadata": {
    "collapsed": true
   },
   "outputs": [],
   "source": [
    "import json\n",
    "with open('new_papers.json', 'w') as outfile:\n",
    "    json.dump(final, outfile)"
   ]
  },
  {
   "cell_type": "code",
   "execution_count": null,
   "metadata": {
    "collapsed": false
   },
   "outputs": [],
   "source": [
    "\"ddd  \".strip()"
   ]
  },
  {
   "cell_type": "code",
   "execution_count": null,
   "metadata": {
    "collapsed": true
   },
   "outputs": [],
   "source": [
    "import collections"
   ]
  },
  {
   "cell_type": "code",
   "execution_count": null,
   "metadata": {
    "collapsed": false
   },
   "outputs": [],
   "source": [
    "a = [3,4,5,5,5,6]\n",
    "b = [1,3,4,4,5,5,6,7]\n",
    "\n",
    "a_multiset = collections.Counter(a)\n",
    "b_multiset = collections.Counter(b)\n",
    "\n",
    "overlap = list((a_multiset & b_multiset).elements())"
   ]
  },
  {
   "cell_type": "code",
   "execution_count": null,
   "metadata": {
    "collapsed": false
   },
   "outputs": [],
   "source": [
    "overlap"
   ]
  },
  {
   "cell_type": "code",
   "execution_count": null,
   "metadata": {
    "collapsed": false
   },
   "outputs": [],
   "source": [
    "import community\n",
    "import networkx as nx\n",
    "import matplotlib.pyplot as plt\n",
    "\n",
    "#better with karate_graph() as defined in networkx example.\n",
    "#erdos renyi don't have true community structure\n",
    "G = nx.erdos_renyi_graph(30, 0.05)\n",
    "\n",
    "#first compute the best partition\n",
    "partition = community.best_partition(G)\n",
    "\n",
    "#drawing\n",
    "size = float(len(set(partition.values())))\n",
    "pos = nx.spring_layout(G)\n",
    "count = 0.\n",
    "for com in set(partition.values()) :\n",
    "    count = count + 1.\n",
    "    list_nodes = [nodes for nodes in partition.keys()\n",
    "                                if partition[nodes] == com]\n",
    "    nx.draw_networkx_nodes(G, pos, list_nodes, node_size = 20,\n",
    "                                node_color = str(count / size))\n",
    "\n",
    "\n",
    "nx.draw_networkx_edges(G,pos, alpha=0.5)\n",
    "plt.show()"
   ]
  },
  {
   "cell_type": "code",
   "execution_count": null,
   "metadata": {
    "collapsed": false
   },
   "outputs": [],
   "source": [
    "%matplotlib inline  \n",
    "import matplotlib.pyplot as plt\n",
    "\n",
    "\n"
   ]
  },
  {
   "cell_type": "code",
   "execution_count": null,
   "metadata": {
    "collapsed": false
   },
   "outputs": [],
   "source": [
    "import matplotlib.pyplot as plt\n"
   ]
  },
  {
   "cell_type": "code",
   "execution_count": null,
   "metadata": {
    "collapsed": true
   },
   "outputs": [],
   "source": []
  }
 ],
 "metadata": {
  "kernelspec": {
   "display_name": "Python 2",
   "language": "python",
   "name": "python2"
  },
  "language_info": {
   "codemirror_mode": {
    "name": "ipython",
    "version": 2
   },
   "file_extension": ".py",
   "mimetype": "text/x-python",
   "name": "python",
   "nbconvert_exporter": "python",
   "pygments_lexer": "ipython2",
   "version": "2.7.11"
  }
 },
 "nbformat": 4,
 "nbformat_minor": 0
}
