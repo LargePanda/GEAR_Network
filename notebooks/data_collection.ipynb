{
 "cells": [
  {
   "cell_type": "markdown",
   "metadata": {},
   "source": [
    "<h1 align = \"center\">GEAR Network</h1>\n",
    "<h4 align = \"center\">Jiarui Xu - jxu57@illinois.edu</h4>"
   ]
  },
  {
   "cell_type": "code",
   "execution_count": 1,
   "metadata": {
    "collapsed": true
   },
   "outputs": [],
   "source": [
    "%matplotlib inline"
   ]
  },
  {
   "cell_type": "code",
   "execution_count": 2,
   "metadata": {
    "collapsed": true
   },
   "outputs": [],
   "source": [
    "import sys\n",
    "default_stdout = sys.stdout\n",
    "default_stderr = sys.stderr\n",
    "reload(sys)\n",
    "sys.stdout = default_stdout\n",
    "sys.stderr = default_stderr\n",
    "sys.setdefaultencoding('utf-8')"
   ]
  },
  {
   "cell_type": "code",
   "execution_count": 3,
   "metadata": {
    "collapsed": false
   },
   "outputs": [],
   "source": [
    "import scrapy\n",
    "import requests\n",
    "import urllib2\n",
    "import BeautifulSoup\n",
    "import pickle\n",
    "import pyprind\n",
    "import json\n",
    "import collections\n",
    "import matplotlib.pyplot as plt"
   ]
  },
  {
   "cell_type": "code",
   "execution_count": 5,
   "metadata": {
    "collapsed": true
   },
   "outputs": [],
   "source": [
    "sys.path.append(\"../\")"
   ]
  },
  {
   "cell_type": "code",
   "execution_count": 6,
   "metadata": {
    "collapsed": false
   },
   "outputs": [],
   "source": [
    "import mathscinet"
   ]
  },
  {
   "cell_type": "code",
   "execution_count": 8,
   "metadata": {
    "collapsed": false
   },
   "outputs": [
    {
     "data": {
      "text/plain": [
       "<module 'mathscinet' from '../mathscinet.pyc'>"
      ]
     },
     "execution_count": 8,
     "metadata": {},
     "output_type": "execute_result"
    }
   ],
   "source": [
    "reload(mathscinet)"
   ]
  },
  {
   "cell_type": "code",
   "execution_count": null,
   "metadata": {
    "collapsed": true
   },
   "outputs": [],
   "source": []
  },
  {
   "cell_type": "markdown",
   "metadata": {},
   "source": [
    "# Load basic infomation"
   ]
  },
  {
   "cell_type": "code",
   "execution_count": null,
   "metadata": {
    "collapsed": true
   },
   "outputs": [],
   "source": [
    "with open(\"./profile/profile.json\") as f:\n",
    "    orig_profile = json.load(f)"
   ]
  },
  {
   "cell_type": "code",
   "execution_count": null,
   "metadata": {
    "collapsed": true
   },
   "outputs": [],
   "source": [
    "gear_mathsci_mapper = {}\n",
    "mathsci_gear_mapper = {}\n",
    "\n",
    "for person in orig_profile['items']:\n",
    "    gear_mathsci_mapper[person['member_id']] = person['mathsci_id']\n",
    "    mathsci_gear_mapper[person['mathsci_id']] = person['member_id']"
   ]
  },
  {
   "cell_type": "code",
   "execution_count": 9,
   "metadata": {
    "collapsed": true
   },
   "outputs": [],
   "source": [
    "from bs4 import BeautifulSoup"
   ]
  },
  {
   "cell_type": "code",
   "execution_count": 10,
   "metadata": {
    "collapsed": false
   },
   "outputs": [
    {
     "ename": "AttributeError",
     "evalue": "type object 'BeautifulSoup' has no attribute 'BeautifulSoup'",
     "output_type": "error",
     "traceback": [
      "\u001b[0;31m---------------------------------------------------------------------------\u001b[0m",
      "\u001b[0;31mAttributeError\u001b[0m                            Traceback (most recent call last)",
      "\u001b[0;32m<ipython-input-10-48ea278a78d2>\u001b[0m in \u001b[0;36m<module>\u001b[0;34m()\u001b[0m\n\u001b[0;32m----> 1\u001b[0;31m \u001b[0mBeautifulSoup\u001b[0m\u001b[0;34m.\u001b[0m\u001b[0mBeautifulSoup\u001b[0m\u001b[0;34m\u001b[0m\u001b[0m\n\u001b[0m",
      "\u001b[0;31mAttributeError\u001b[0m: type object 'BeautifulSoup' has no attribute 'BeautifulSoup'"
     ]
    }
   ],
   "source": [
    "BeautifulSoup."
   ]
  },
  {
   "cell_type": "markdown",
   "metadata": {
    "collapsed": true
   },
   "source": [
    "# Retrieve papers for each professor"
   ]
  },
  {
   "cell_type": "markdown",
   "metadata": {},
   "source": [
    "### Construct paper_set: mathsci_id -> paper_list mapping"
   ]
  },
  {
   "cell_type": "code",
   "execution_count": null,
   "metadata": {
    "collapsed": false
   },
   "outputs": [],
   "source": [
    "bar = pyprind.ProgBar(len(orig_profile['items']), bar_char='█', width=70)\n",
    "\n",
    "paper_set = {}\n",
    "\n",
    "for person in orig_profile['items']:\n",
    "    \n",
    "    bar.update()\n",
    "    \n",
    "    member_id = person['member_id']\n",
    "    mathsci_id = person['mathsci_id']\n",
    "    \n",
    "    if mathsci_id != 'NA':\n",
    "        paper_set[mathsci_id] = mathscinet.find_papers_by_author_id(mathsci_id)"
   ]
  },
  {
   "cell_type": "code",
   "execution_count": null,
   "metadata": {
    "collapsed": true
   },
   "outputs": [],
   "source": [
    "with open(\"mathscinet_paper_base.json\", \"wb\") as f:\n",
    "    json.dump(paper_set, f)"
   ]
  },
  {
   "cell_type": "code",
   "execution_count": null,
   "metadata": {
    "collapsed": true
   },
   "outputs": [],
   "source": [
    "with open(\"mathscinet_paper_base.json\", \"rb\") as f:\n",
    "    paper_set = json.load(f)"
   ]
  },
  {
   "cell_type": "code",
   "execution_count": null,
   "metadata": {
    "collapsed": false
   },
   "outputs": [],
   "source": [
    "paper_set"
   ]
  },
  {
   "cell_type": "markdown",
   "metadata": {},
   "source": [
    "# Profile Update"
   ]
  },
  {
   "cell_type": "markdown",
   "metadata": {},
   "source": [
    "### 1. Retrieving papers"
   ]
  },
  {
   "cell_type": "code",
   "execution_count": null,
   "metadata": {
    "collapsed": false
   },
   "outputs": [],
   "source": [
    "paper_set_2011 = {}\n",
    "count_2011 = 0\n",
    "\n",
    "for mathsci_id in paper_set.keys():\n",
    "    \n",
    "    paper_set_2011[mathsci_id] = []\n",
    "    \n",
    "    for paper in paper_set[mathsci_id]:\n",
    "        if paper['date'] >= 2011:\n",
    "            count_2011 += 1\n",
    "            paper_set_2011[mathsci_id].append(paper)\n",
    "\n",
    "print \"Completed! count:\", count_2011"
   ]
  },
  {
   "cell_type": "markdown",
   "metadata": {},
   "source": [
    "### 2. Retrieving citations"
   ]
  },
  {
   "cell_type": "code",
   "execution_count": null,
   "metadata": {
    "collapsed": false
   },
   "outputs": [],
   "source": [
    "bar = pyprind.ProgBar(count_2011, bar_char='█', width=70)\n",
    "\n",
    "for mathsci_id in paper_set_2011.keys():\n",
    "    \n",
    "    for paper in paper_set_2011[mathsci_id]:\n",
    "        bar.update()\n",
    "        paper['citing'] = mathscinet.find_parent_citations( paper['id'] )"
   ]
  },
  {
   "cell_type": "code",
   "execution_count": null,
   "metadata": {
    "collapsed": true
   },
   "outputs": [],
   "source": [
    "with open(\"mathscinet_paper_base_with_citation.json\", \"wb\") as f:\n",
    "    json.dump(paper_set_2011, f)"
   ]
  },
  {
   "cell_type": "code",
   "execution_count": null,
   "metadata": {
    "collapsed": true
   },
   "outputs": [],
   "source": [
    "with open(\"mathscinet_paper_base_with_citation.json\", \"rb\") as f:\n",
    "    paper_set_2011 = json.load(f)"
   ]
  },
  {
   "cell_type": "markdown",
   "metadata": {},
   "source": [
    "### 3. Updating the profile accordingly "
   ]
  },
  {
   "cell_type": "markdown",
   "metadata": {},
   "source": [
    "#### 3.1 Update collaborator detail"
   ]
  },
  {
   "cell_type": "code",
   "execution_count": null,
   "metadata": {
    "collapsed": true
   },
   "outputs": [],
   "source": [
    "def update_collaborators(gear_profile, gear_paper_set, starting_year, ending_year, converter):\n",
    "    \n",
    "    col_detail_key = \"%s-%s collaborators details\" % (str(starting_year), str(ending_year))\n",
    "    col_size_key = \"%s-%s collaborators sizes\" % (str(starting_year), str(ending_year))\n",
    "    \n",
    "    for person in gear_profile['items']:\n",
    "        details = {}\n",
    "        sizes = {}\n",
    "        \n",
    "        mathsci_id = person['mathsci_id']\n",
    "\n",
    "        # if mathsci_id does not exist, continue\n",
    "        if mathsci_id == \"NA\":\n",
    "            continue\n",
    "\n",
    "        for paper in gear_paper_set[mathsci_id]:\n",
    "            year = paper['date']\n",
    "\n",
    "            if year < starting_year or year > ending_year:\n",
    "                continue\n",
    "\n",
    "            authors = paper['authors']\n",
    "\n",
    "            for au in authors:\n",
    "                if au in converter:\n",
    "                    gear_id = converter[au]\n",
    "                    \n",
    "                    if gear_id == person['member_id']:\n",
    "                        continue\n",
    "                    \n",
    "                    if gear_id in details:\n",
    "                        details[gear_id].append( paper['id'] )\n",
    "                    else:\n",
    "                        details[gear_id] = [ paper['id'] ]\n",
    "        \n",
    "        for key in details.keys():\n",
    "            sizes[key] = len(details[key])\n",
    "            \n",
    "        person[col_detail_key] = details\n",
    "        person[col_size_key] = sizes"
   ]
  },
  {
   "cell_type": "code",
   "execution_count": null,
   "metadata": {
    "collapsed": false
   },
   "outputs": [],
   "source": [
    "for ending_year in range(2011, 2017):\n",
    "    update_collaborators(orig_profile, paper_set_2011, 2011, ending_year, mathsci_gear_mapper)"
   ]
  },
  {
   "cell_type": "markdown",
   "metadata": {},
   "source": [
    "#### 3.2 Update citation"
   ]
  },
  {
   "cell_type": "code",
   "execution_count": null,
   "metadata": {
    "collapsed": true
   },
   "outputs": [],
   "source": [
    "def get_citation_keys(citations):\n",
    "    keys = []\n",
    "    for cite in citations:\n",
    "        keys.append(cite['id'])\n",
    "    return keys"
   ]
  },
  {
   "cell_type": "code",
   "execution_count": null,
   "metadata": {
    "collapsed": false
   },
   "outputs": [],
   "source": [
    "def retrieve_citations(person, selected_paper_set, starting_year, ending_year):\n",
    "    \n",
    "    mathsci_id = person['mathsci_id']\n",
    "    \n",
    "    citations = []\n",
    "    \n",
    "    if mathsci_id == \"NA\":\n",
    "        return citations\n",
    "    \n",
    "    paper_list = selected_paper_set[mathsci_id]\n",
    "    \n",
    "    for paper in paper_list:\n",
    "        year = paper['date']\n",
    "        if year < starting_year or year > ending_year:\n",
    "            continue\n",
    "        citations.extend( get_citation_keys(paper['citing']) )\n",
    "        \n",
    "    return citations"
   ]
  },
  {
   "cell_type": "code",
   "execution_count": null,
   "metadata": {
    "collapsed": true
   },
   "outputs": [],
   "source": [
    "def list_overlap(list_a, list_b):\n",
    "\n",
    "    a_multiset = collections.Counter(list_a)\n",
    "    b_multiset = collections.Counter(list_b)\n",
    "\n",
    "    overlap = list((a_multiset & b_multiset).elements())\n",
    "    \n",
    "    return overlap"
   ]
  },
  {
   "cell_type": "code",
   "execution_count": null,
   "metadata": {
    "collapsed": true
   },
   "outputs": [],
   "source": [
    "def update_citations(profile, paper_set, starting_year, ending_year, converter):\n",
    "    \n",
    "    cite_details_key = \"%s-%s citation details\" % (str(starting_year), str(ending_year))\n",
    "    cite_sizes_key = \"%s-%s citation sizes\" % (str(starting_year), str(ending_year))\n",
    "    \n",
    "    # build member_id -> person mapping\n",
    "    temp_profile = {}\n",
    "    for person in profile['items']:\n",
    "        member_id = person['member_id']\n",
    "        temp_profile[member_id] = person\n",
    "        \n",
    "    author_list = temp_profile.keys()\n",
    "\n",
    "    for person in profile['items']:\n",
    "        person[cite_details_key] = {}\n",
    "        person[cite_sizes_key] = {}\n",
    "        \n",
    "        member_id = person['member_id']\n",
    "        \n",
    "        for other_person_id in author_list:\n",
    "            \n",
    "            if other_person_id == member_id:\n",
    "                continue\n",
    "            \n",
    "            other_person = temp_profile[other_person_id]\n",
    "            \n",
    "            other_person_citation = retrieve_citations(other_person, paper_set, starting_year, ending_year)\n",
    "            this_person_citation = retrieve_citations(person, paper_set, starting_year, ending_year)\n",
    "            \n",
    "            length = len(list_overlap(other_person_citation, this_person_citation)) \n",
    "            if length > 0:\n",
    "                person[cite_sizes_key][other_person_id] = list_overlap(other_person_citation, this_person_citation)\n",
    "                person[cite_sizes_key][other_person_id] = len(person[cite_sizes_key][other_person_id])            "
   ]
  },
  {
   "cell_type": "code",
   "execution_count": null,
   "metadata": {
    "collapsed": false
   },
   "outputs": [],
   "source": [
    "for ending_year in range(2011, 2017):\n",
    "    update_citations(orig_profile, paper_set_2011, 2011, ending_year, mathsci_gear_mapper)"
   ]
  },
  {
   "cell_type": "code",
   "execution_count": null,
   "metadata": {
    "collapsed": false
   },
   "outputs": [],
   "source": [
    "orig_profile"
   ]
  },
  {
   "cell_type": "markdown",
   "metadata": {},
   "source": [
    "### Matrix Builder"
   ]
  },
  {
   "cell_type": "code",
   "execution_count": null,
   "metadata": {
    "collapsed": true
   },
   "outputs": [],
   "source": [
    "def print_matrix(folder_name, file_name, matrix):\n",
    "    path = os.path.join(folder_name, file_name)\n",
    "    print path\n",
    "    with open(path, \"w\") as f:\n",
    "        f.write(\"Source;Target;Weight;Type\\n\")\n",
    "        for key in matrix.keys():\n",
    "            f.write(str(key[0]) + \";\")\n",
    "            f.write(str(key[1]) + \";\")\n",
    "            f.write(str(matrix[key]) + \";\")\n",
    "            f.write(\"undirected\\n\")"
   ]
  },
  {
   "cell_type": "code",
   "execution_count": null,
   "metadata": {
    "collapsed": true
   },
   "outputs": [],
   "source": [
    "def matrix_maker(gear_profile, starting_year, ending_year):\n",
    "    collab_matrix = {}\n",
    "    citation_matrix = {}\n",
    "    \n",
    "    cit_size_key = \"%s-%s citation sizes\" % (str(starting_year), str(ending_year))\n",
    "    col_size_key = \"%s-%s collaborators size\" % (str(starting_year), str(ending_year))\n",
    "    \n",
    "    for person in gear_profile['items']:\n",
    "        \n",
    "        if person['mathsci_id'] == \"NA\":\n",
    "            continue\n",
    "        \n",
    "        author_id = person['member_id']\n",
    "        \n",
    "        for key in person[col_size_key].keys():\n",
    "            if key > author_id:\n",
    "                collab_matrix[(author_id, key)] = person[col_size_key][key]\n",
    "        \n",
    "        for key in person[cit_size_key].keys():\n",
    "            if key > author_id:\n",
    "                citation_matrix[(author_id, key)] = person[cit_size_key][key]\n",
    "                \n",
    "    print_matrix(\"output\", str(starting_year)+\"_\"+str(ending_year)+\"_citation\", citation_matrix)\n",
    "    print_matrix(\"output\", str(starting_year)+\"_\"+str(ending_year)+\"_coauthor\", collab_matrix)"
   ]
  },
  {
   "cell_type": "code",
   "execution_count": null,
   "metadata": {
    "collapsed": true
   },
   "outputs": [],
   "source": []
  },
  {
   "cell_type": "code",
   "execution_count": null,
   "metadata": {
    "collapsed": false
   },
   "outputs": [],
   "source": [
    "for ending_year in range(2011, 2017):\n",
    "    matrix_pair = matrix_maker(orig_profile, 2011, ending_year)"
   ]
  },
  {
   "cell_type": "markdown",
   "metadata": {},
   "source": [
    "# Visualize"
   ]
  },
  {
   "cell_type": "code",
   "execution_count": null,
   "metadata": {
    "collapsed": false
   },
   "outputs": [],
   "source": [
    "#The package which handles the graph objects\n",
    "import networkx as nx\n",
    "\n",
    "# Matplotlib is the default package for\n",
    "# rendering the graphs\n",
    "import matplotlib.pyplot as plt\n",
    "\n",
    "def simple_graph(profile):\n",
    "\n",
    "    #create an empty graph\n",
    "    G = nx.Graph()\n",
    "    \n",
    "    name_mapping = {}\n",
    "    \n",
    "    for person in profile['items']:\n",
    "        aid = person['member_id']\n",
    "        name = person['name']\n",
    "        surname = person['surname']\n",
    "        name_mapping[aid] = name + \" \" + surname\n",
    "        \n",
    "    for person in profile['items']:\n",
    "        aid = person['member_id']\n",
    "        cite = person['2011-2015 citation stats']\n",
    "        for au in cite.keys():\n",
    "            edge = (aid, au)\n",
    "            # name_edge = (name_mapping[aid], name_mapping[au])\n",
    "            # G.add_edge(name_edge[0], name_edge[1])\n",
    "            G.add_edge(str(edge[0]), str(edge[1]))\n",
    "    \n",
    "    #draw the graph\n",
    "    nx.draw(G)\n",
    "    # plt.savefig(\"graph.png\", dpi=1000)\n",
    "    #show\n",
    "    plt.show()\n",
    "\n",
    "    app = Viewer(G)\n",
    "    app.mainloop()\n",
    "simple_graph(orig_profile)"
   ]
  },
  {
   "cell_type": "code",
   "execution_count": null,
   "metadata": {
    "collapsed": true
   },
   "outputs": [],
   "source": [
    "def similarity_calculator(first, second):\n",
    "    #if type(first) is not unicode:\n",
    "    #    first = unicode(first, 'utf-8')\n",
    "    #if type(second) is not unicode:\n",
    "    #    second = unicode(second, 'utf-8')\n",
    "\n",
    "\n",
    "    # 1. fuzzy matcher\n",
    "    fr = fuzz.ratio(first, second)\n",
    "    pr = fuzz.partial_ratio(first, second)\n",
    "    sor = fuzz.token_sort_ratio(first, second)\n",
    "    ser = fuzz.token_set_ratio(first, second)    \n",
    "    \n",
    "    # 2. sequence similarity\n",
    "    s = difflib.SequenceMatcher(lambda x: x == \" \", first, second)\n",
    "    seq = round(s.ratio(), 3)\n",
    "    \n",
    "    # 3. edit distance\n",
    "    # 3.1 absolute\n",
    "    try:\n",
    "        lv_ab = Levenshtein.distance(first, second)\n",
    "    except:\n",
    "        print \"ooops\", first, second\n",
    "    \n",
    "    # 3.2 jaro\n",
    "    lv_ja = Levenshtein.jaro(first, second)\n",
    "    \n",
    "    # 3.3 jaro_winkler\n",
    "    lv_jaw = Levenshtein.jaro_winkler(first, second)\n",
    "    \n",
    "    # 3.4 ratio\n",
    "    lv_ra = Levenshtein.ratio(first, second)\n",
    "    \n",
    "\n",
    "    # 4 jarcard and \n",
    "    sr = distance.sorensen(first, second)\n",
    "    ja = distance.jaccard(first, second)\n",
    "    print fr, pr, sor, ser, seq, lv_ab, lv_ja, lv_jaw, lv_ra"
   ]
  },
  {
   "cell_type": "code",
   "execution_count": null,
   "metadata": {
    "collapsed": false
   },
   "outputs": [],
   "source": [
    "fuzz.ratio('Andersen, J\\xf8rgen E.; Chekhov, Leonid O.; Penner, R. C.; Reidys, Christian M.; Su\\u0142kowski, Piotr Topological recursion for chord diagrams, RNA complexes, and cells in moduli spaces. Nuclear Phys. B 866 (2013), no. 3, 414\\u2013443.', \\\n",
    "           'Ande J\\xf8rgen E.; Chekhov, Leonid O Penner, R. C.; Reidys, Christian M.; Su\\u0142kowski, Piotr Topological recursion for chord diagrams, RNAcomplexes,and cells in moduli spaces. Nuclear Phys. B 866 (2013), no. 3, 4142013443.')"
   ]
  },
  {
   "cell_type": "markdown",
   "metadata": {},
   "source": [
    "# Computer number of paper they wrote together between y1 and y2"
   ]
  },
  {
   "cell_type": "code",
   "execution_count": null,
   "metadata": {
    "collapsed": true
   },
   "outputs": [],
   "source": [
    "def count_coop(gid1, gid2, y1, y2):\n",
    "    val = 0\n",
    "    aid1 = base[gid1]\n",
    "    aid2 = base[gid2]\n",
    "    # print aid1, aid2\n",
    "    papers_1 = paper_base[aid1]\n",
    "    # papers_2 = paper_base[aid2]\n",
    "    \n",
    "    for paper in papers_1:\n",
    "        if paper['year'] >= y1 and paper['year']<= y2:\n",
    "            if aid2 in paper['authors']:\n",
    "                val += 1\n",
    "    return val\n",
    "    "
   ]
  },
  {
   "cell_type": "code",
   "execution_count": null,
   "metadata": {
    "collapsed": true
   },
   "outputs": [],
   "source": [
    "# 24\n",
    "# 12"
   ]
  },
  {
   "cell_type": "code",
   "execution_count": null,
   "metadata": {
    "collapsed": false
   },
   "outputs": [],
   "source": [
    "count_coop(\"24\",\"12\",1000,2016)"
   ]
  },
  {
   "cell_type": "code",
   "execution_count": null,
   "metadata": {
    "collapsed": false
   },
   "outputs": [],
   "source": [
    "data = {}\n",
    "for a1 in base.keys():\n",
    "    data[a1] = {}\n",
    "    for a2 in base.keys():\n",
    "        if a1 is not a2:\n",
    "            data[a1][a2] = count_coop(a1, a2, 2011, 2011)"
   ]
  },
  {
   "cell_type": "code",
   "execution_count": null,
   "metadata": {
    "collapsed": false
   },
   "outputs": [],
   "source": [
    "with open(\"input.csv\", \"w\") as f:\n",
    "    f.write(\"Source;Target;Weight;Type\\n\")\n",
    "    for a1 in data.keys():\n",
    "        for a2 in data[a1].keys():\n",
    "            if data[a1][a2] > 0:\n",
    "                f.write(a1)\n",
    "                f.write(\";\")\n",
    "                f.write(a2)\n",
    "                f.write(\";\")\n",
    "                f.write(str(data[a1][a2]))\n",
    "                f.write(\";\")\n",
    "                f.write(\"undirected\\n\")"
   ]
  },
  {
   "cell_type": "code",
   "execution_count": null,
   "metadata": {
    "collapsed": false
   },
   "outputs": [],
   "source": [
    "def print_single_year(year):\n",
    "    data = {}\n",
    "    for a1 in base.keys():\n",
    "        data[a1] = {}\n",
    "        for a2 in base.keys():\n",
    "            if a1 is not a2:\n",
    "                data[a1][a2] = count_coop(a1, a2, year, year)\n",
    "                \n",
    "    with open(str(year)+\"_input.csv\", \"w\") as f:\n",
    "        f.write(\"Source;Target;Weight;Type\\n\")\n",
    "        for a1 in data.keys():\n",
    "            for a2 in data[a1].keys():\n",
    "                if data[a1][a2] > 0:\n",
    "                    f.write(a1)\n",
    "                    f.write(\";\")\n",
    "                    f.write(a2)\n",
    "                    f.write(\";\")\n",
    "                    f.write(str(data[a1][a2]))\n",
    "                    f.write(\";\")\n",
    "                    f.write(\"undirected\\n\")"
   ]
  },
  {
   "cell_type": "code",
   "execution_count": null,
   "metadata": {
    "collapsed": true
   },
   "outputs": [],
   "source": [
    "print_single_year(2011)\n",
    "print_single_year(2012)\n",
    "print_single_year(2013)\n",
    "print_single_year(2014)\n",
    "print_single_year(2015)\n",
    "print_single_year(2016)"
   ]
  },
  {
   "cell_type": "markdown",
   "metadata": {
    "collapsed": true
   },
   "source": [
    "# Combine databases"
   ]
  },
  {
   "cell_type": "code",
   "execution_count": null,
   "metadata": {
    "collapsed": true
   },
   "outputs": [],
   "source": [
    "orig = \"Boileau, Michel; Boyer, Steven; Cebanu, Radu; Walsh, Genevieve S. Knot commensurability and the Berge conjecture. Geom. Topol. 16 (2012), no. 2, 625–664.\"\n",
    "new = 'Knot commensurability and the Berge conjecture.'"
   ]
  },
  {
   "cell_type": "code",
   "execution_count": null,
   "metadata": {
    "collapsed": true
   },
   "outputs": [],
   "source": [
    "orig = \"Steven B. Bradlow\"\n",
    "new = \"Bradlow, S\""
   ]
  },
  {
   "cell_type": "code",
   "execution_count": null,
   "metadata": {
    "collapsed": true
   },
   "outputs": [],
   "source": [
    "from fuzzywuzzy import fuzz\n",
    "from fuzzywuzzy import process\n",
    "import math\n",
    "import wikipedia\n",
    "import Levenshtein\n",
    "import difflib\n",
    "import distance\n",
    "import textblob\n",
    "import numpy"
   ]
  },
  {
   "cell_type": "code",
   "execution_count": null,
   "metadata": {
    "collapsed": false
   },
   "outputs": [],
   "source": [
    "import json\n",
    "with open(\"papers.json\") as f:\n",
    "    old_base = json.loads(f.read())"
   ]
  },
  {
   "cell_type": "code",
   "execution_count": null,
   "metadata": {
    "collapsed": false
   },
   "outputs": [],
   "source": [
    "old_base.keys()"
   ]
  },
  {
   "cell_type": "code",
   "execution_count": null,
   "metadata": {
    "collapsed": false
   },
   "outputs": [],
   "source": [
    "paper_base"
   ]
  },
  {
   "cell_type": "code",
   "execution_count": null,
   "metadata": {
    "collapsed": false
   },
   "outputs": [],
   "source": [
    "# make a mapping from \n",
    "mapping = {}\n",
    "for key in base.keys():\n",
    "    mapping[base[key]] = key\n",
    "    \n",
    "mapping"
   ]
  },
  {
   "cell_type": "code",
   "execution_count": null,
   "metadata": {
    "collapsed": false
   },
   "outputs": [],
   "source": [
    "# go through paper_base, filter only 2011+ papers\n",
    "\n",
    "out = []\n",
    "for key in paper_base.keys():\n",
    "    paper_list = paper_base[key]\n",
    "    for paper in paper_list:\n",
    "        if paper['year'] >= 2011:\n",
    "            if check_if_coop(paper['authors'], mapping):\n",
    "                newone = {}\n",
    "                newone['collaborator_ids'] = get_ids(paper['authors'], mapping)\n",
    "                newone['date'] = str(paper['year'])\n",
    "                newone['description'] = paper['article_title']\n",
    "                out.append(newone)"
   ]
  },
  {
   "cell_type": "code",
   "execution_count": null,
   "metadata": {
    "collapsed": false
   },
   "outputs": [],
   "source": [
    "out_base = []\n",
    "for unit in out:\n",
    "    f = True\n",
    "    for exi in out_base:\n",
    "        if unit['description'] == exi['description']:\n",
    "            f = False\n",
    "    if f:\n",
    "        out_base.append(unit)\n",
    "        "
   ]
  },
  {
   "cell_type": "code",
   "execution_count": null,
   "metadata": {
    "collapsed": false
   },
   "outputs": [],
   "source": [
    "len(out_base)"
   ]
  },
  {
   "cell_type": "code",
   "execution_count": null,
   "metadata": {
    "collapsed": false
   },
   "outputs": [],
   "source": [
    "out_base"
   ]
  },
  {
   "cell_type": "code",
   "execution_count": null,
   "metadata": {
    "collapsed": true
   },
   "outputs": [],
   "source": [
    "def check_if_coop(authors, mapping):\n",
    "    val = 0\n",
    "    for au in authors:\n",
    "        if au in mapping.keys():\n",
    "            val += 1\n",
    "    if val>=2:\n",
    "        return True\n",
    "    else:\n",
    "        return False\n",
    "    \n",
    "def get_ids(authors, mapping):\n",
    "    ret = []\n",
    "    for au in authors:\n",
    "        if au in mapping.keys():\n",
    "            ret.append(int(mapping[au]))\n",
    "    return ret"
   ]
  },
  {
   "cell_type": "code",
   "execution_count": null,
   "metadata": {
    "collapsed": false
   },
   "outputs": [],
   "source": [
    "# out is auto database\n",
    "# old_base is old database\n",
    "\n",
    "final = []\n",
    "\n",
    "for a in old_base['papers']:\n",
    "    f = True\n",
    "    for b in final:\n",
    "        if title_compare(a, b) is True:\n",
    "            f = False\n",
    "    if f:\n",
    "        final.append(a)\n",
    "        \n",
    "for a in out_base:\n",
    "    f = True\n",
    "    for b in final:\n",
    "        if title_compare(a, b) is True:\n",
    "            f = False\n",
    "    if f:\n",
    "        final.append(a)\n",
    "        \n",
    "        "
   ]
  },
  {
   "cell_type": "code",
   "execution_count": null,
   "metadata": {
    "collapsed": false
   },
   "outputs": [],
   "source": [
    "len(old_base['papers'])"
   ]
  },
  {
   "cell_type": "code",
   "execution_count": null,
   "metadata": {
    "collapsed": false
   },
   "outputs": [],
   "source": [
    "len(final)"
   ]
  },
  {
   "cell_type": "code",
   "execution_count": null,
   "metadata": {
    "collapsed": true
   },
   "outputs": [],
   "source": [
    "def title_compare(a, b):\n",
    "    return fuzz.partial_ratio(a['description'], b['description'])>95"
   ]
  },
  {
   "cell_type": "code",
   "execution_count": null,
   "metadata": {
    "collapsed": true
   },
   "outputs": [],
   "source": [
    "def ids_compare(a, b):\n",
    "    return set(a['collaborator_ids']) == set(b['collaborator_ids'])"
   ]
  },
  {
   "cell_type": "code",
   "execution_count": null,
   "metadata": {
    "collapsed": true
   },
   "outputs": [],
   "source": [
    "def date_compare(a, b):\n",
    "    return a['date'] == b['date']"
   ]
  },
  {
   "cell_type": "code",
   "execution_count": null,
   "metadata": {
    "collapsed": false
   },
   "outputs": [],
   "source": [
    "with open(\"prof.txt\", \"r\") as f:\n",
    "    profile = json.loads(f.read())"
   ]
  },
  {
   "cell_type": "code",
   "execution_count": null,
   "metadata": {
    "collapsed": false
   },
   "outputs": [],
   "source": [
    "for prof in profile['items']:\n",
    "    id = prof['member_id']\n",
    "    try:\n",
    "        prof[u'mathsci_id'] = mapping[id]\n",
    "    except:\n",
    "        prof[u'mathsci_id'] = 0"
   ]
  },
  {
   "cell_type": "code",
   "execution_count": null,
   "metadata": {
    "collapsed": false
   },
   "outputs": [],
   "source": [
    "profile"
   ]
  },
  {
   "cell_type": "code",
   "execution_count": null,
   "metadata": {
    "collapsed": true
   },
   "outputs": [],
   "source": [
    "import json\n",
    "with open('new_profile.json', 'w') as outfile:\n",
    "    json.dump(profile, outfile)"
   ]
  },
  {
   "cell_type": "code",
   "execution_count": null,
   "metadata": {
    "collapsed": true
   },
   "outputs": [],
   "source": [
    "import json\n",
    "with open('new_papers.json', 'w') as outfile:\n",
    "    json.dump(final, outfile)"
   ]
  },
  {
   "cell_type": "code",
   "execution_count": null,
   "metadata": {
    "collapsed": false
   },
   "outputs": [],
   "source": [
    "\"ddd  \".strip()"
   ]
  },
  {
   "cell_type": "code",
   "execution_count": null,
   "metadata": {
    "collapsed": true
   },
   "outputs": [],
   "source": [
    "import collections"
   ]
  },
  {
   "cell_type": "code",
   "execution_count": null,
   "metadata": {
    "collapsed": false
   },
   "outputs": [],
   "source": [
    "a = [3,4,5,5,5,6]\n",
    "b = [1,3,4,4,5,5,6,7]\n",
    "\n",
    "a_multiset = collections.Counter(a)\n",
    "b_multiset = collections.Counter(b)\n",
    "\n",
    "overlap = list((a_multiset & b_multiset).elements())"
   ]
  },
  {
   "cell_type": "code",
   "execution_count": null,
   "metadata": {
    "collapsed": false
   },
   "outputs": [],
   "source": [
    "overlap"
   ]
  },
  {
   "cell_type": "code",
   "execution_count": null,
   "metadata": {
    "collapsed": false
   },
   "outputs": [],
   "source": [
    "import community\n",
    "import networkx as nx\n",
    "import matplotlib.pyplot as plt\n",
    "\n",
    "#better with karate_graph() as defined in networkx example.\n",
    "#erdos renyi don't have true community structure\n",
    "G = nx.erdos_renyi_graph(30, 0.05)\n",
    "\n",
    "#first compute the best partition\n",
    "partition = community.best_partition(G)\n",
    "\n",
    "#drawing\n",
    "size = float(len(set(partition.values())))\n",
    "pos = nx.spring_layout(G)\n",
    "count = 0.\n",
    "for com in set(partition.values()) :\n",
    "    count = count + 1.\n",
    "    list_nodes = [nodes for nodes in partition.keys()\n",
    "                                if partition[nodes] == com]\n",
    "    nx.draw_networkx_nodes(G, pos, list_nodes, node_size = 20,\n",
    "                                node_color = str(count / size))\n",
    "\n",
    "\n",
    "nx.draw_networkx_edges(G,pos, alpha=0.5)\n",
    "plt.show()"
   ]
  },
  {
   "cell_type": "code",
   "execution_count": null,
   "metadata": {
    "collapsed": false
   },
   "outputs": [],
   "source": [
    "%matplotlib inline  \n",
    "import matplotlib.pyplot as plt\n",
    "\n",
    "\n"
   ]
  },
  {
   "cell_type": "code",
   "execution_count": null,
   "metadata": {
    "collapsed": false
   },
   "outputs": [],
   "source": [
    "import matplotlib.pyplot as plt\n"
   ]
  },
  {
   "cell_type": "code",
   "execution_count": null,
   "metadata": {
    "collapsed": true
   },
   "outputs": [],
   "source": []
  }
 ],
 "metadata": {
  "kernelspec": {
   "display_name": "Python 2",
   "language": "python",
   "name": "python2"
  },
  "language_info": {
   "codemirror_mode": {
    "name": "ipython",
    "version": 2
   },
   "file_extension": ".py",
   "mimetype": "text/x-python",
   "name": "python",
   "nbconvert_exporter": "python",
   "pygments_lexer": "ipython2",
   "version": "2.7.11"
  }
 },
 "nbformat": 4,
 "nbformat_minor": 0
}
