{
 "cells": [
  {
   "cell_type": "code",
   "execution_count": 1,
   "metadata": {
    "collapsed": true
   },
   "outputs": [],
   "source": [
    "import sys\n",
    "sys.path.append(\"../\")"
   ]
  },
  {
   "cell_type": "markdown",
   "metadata": {},
   "source": [
    "### Load original profile"
   ]
  },
  {
   "cell_type": "code",
   "execution_count": 2,
   "metadata": {
    "collapsed": true
   },
   "outputs": [],
   "source": [
    "import json\n",
    "from data_collection_util import *\n",
    "\n",
    "# load original profile\n",
    "with open(\"../profile/profile.json\") as f:\n",
    "    orig_profile = json.load(f)"
   ]
  },
  {
   "cell_type": "markdown",
   "metadata": {},
   "source": [
    "In original profile, each gear member has the following arrtibutes: "
   ]
  },
  {
   "cell_type": "markdown",
   "metadata": {},
   "source": [
    "[u'website', u'gear_collaborators', u'pos_x', u'pos_y', u'surname', u'name', u'title', u'photo', u'other_collaborators', u'member_type', u'short_bio', u'mathsci_id', u'cluster_id', u'member_id', u'organization', u'research_interests']"
   ]
  },
  {
   "cell_type": "markdown",
   "metadata": {},
   "source": [
    "A sample member profile looks like this:"
   ]
  },
  {
   "cell_type": "markdown",
   "metadata": {},
   "source": [
    "{u'cluster_id': 0,\n",
    " u'gear_collaborators': [],\n",
    " u'mathsci_id': u'MR304864',\n",
    " u'member_id': 12,\n",
    " u'member_type': u'member',\n",
    " u'name': u'Steven',\n",
    " u'organization': u'University of Illinois at Urbana-Champaign',\n",
    " u'other_collaborators': u'Indranil Biswas, Jim Glazebrook, Tomas Gomez, Adam Jacob, Franz Kamber, Vincent Mercat, Vicente Munoz, Peter Newstead, Mathias Stemmler',\n",
    " u'photo': u'BradlowSteven.jpg',\n",
    " u'pos_x': 0,\n",
    " u'pos_y': 0,\n",
    " u'research_interests': u'Higgs Bundles',\n",
    " u'short_bio': u\"I'm interested in moduli spaces associated with holomorphic vector bundles. In particular, I'm a big fan of applications of Higgs bundle technology to the study of surface group representation varieties. Before I die, I'd like to be able to compute the surface group representation corresponding to any given Higgs bundle, and vice versa.\",\n",
    " u'surname': u'Bradlow',\n",
    " u'title': u'GEAR Member',\n",
    " u'website': u''}"
   ]
  },
  {
   "cell_type": "markdown",
   "metadata": {},
   "source": [
    "### Build mappers for id and mathscinet id"
   ]
  },
  {
   "cell_type": "code",
   "execution_count": 3,
   "metadata": {
    "collapsed": true
   },
   "outputs": [],
   "source": [
    "mappers = make_mappers(orig_profile)\n",
    "gear_mathsci_mapper = mappers[0]\n",
    "mathsci_gear_mapper = mappers[1]"
   ]
  },
  {
   "cell_type": "markdown",
   "metadata": {},
   "source": [
    "### Download paper list for each member with mathsci_id"
   ]
  },
  {
   "cell_type": "code",
   "execution_count": null,
   "metadata": {
    "collapsed": false
   },
   "outputs": [
    {
     "name": "stderr",
     "output_type": "stream",
     "text": [
      "0%                                                                  100%\n",
      "[                                                                      ]/Users/erichsu/anaconda/lib/python2.7/site-packages/bs4/__init__.py:166: UserWarning: No parser was explicitly specified, so I'm using the best available HTML parser for this system (\"lxml\"). This usually isn't a problem, but if you run this code on another system, or in a different virtual environment, it may use a different parser and behave differently.\n",
      "\n",
      "To get rid of this warning, change this:\n",
      "\n",
      " BeautifulSoup([your markup])\n",
      "\n",
      "to this:\n",
      "\n",
      " BeautifulSoup([your markup], \"lxml\")\n",
      "\n",
      "  markup_type=markup_type))\n",
      "[##                                                                    ] | ETA: 00:09:03"
     ]
    }
   ],
   "source": [
    "paper_set = download_full_paper_set(orig_profile)"
   ]
  },
  {
   "cell_type": "code",
   "execution_count": null,
   "metadata": {
    "collapsed": false
   },
   "outputs": [],
   "source": [
    "paper_2011_meta = filter_2011(paper_set)\n",
    "\n",
    "paper_set_2011 = paper_2011_meta[0]\n",
    "count_2011 = paper_2011_meta[1]"
   ]
  },
  {
   "cell_type": "code",
   "execution_count": null,
   "metadata": {
    "collapsed": false
   },
   "outputs": [],
   "source": [
    "# download papers citing gear member papers\n",
    "download_gear_papers(paper_set_2011, count_2011)"
   ]
  },
  {
   "cell_type": "code",
   "execution_count": null,
   "metadata": {
    "collapsed": false
   },
   "outputs": [],
   "source": [
    "# update coauthorship/cocitation data\n",
    "for ending_year in range(2011, 2017):\n",
    "    update_collaborators(orig_profile, paper_set_2011, 2011, ending_year, mathsci_gear_mapper)\n",
    "    update_citations(orig_profile, paper_set_2011, 2011, ending_year, mathsci_gear_mapper)"
   ]
  },
  {
   "cell_type": "code",
   "execution_count": null,
   "metadata": {
    "collapsed": false
   },
   "outputs": [],
   "source": [
    "# print matrix \n",
    "for ending_year in range(2011, 2017):\n",
    "    matrix_maker(orig_profile, 2011, ending_year)"
   ]
  },
  {
   "cell_type": "code",
   "execution_count": null,
   "metadata": {
    "collapsed": true
   },
   "outputs": [],
   "source": []
  }
 ],
 "metadata": {
  "kernelspec": {
   "display_name": "Python 2",
   "language": "python",
   "name": "python2"
  },
  "language_info": {
   "codemirror_mode": {
    "name": "ipython",
    "version": 2
   },
   "file_extension": ".py",
   "mimetype": "text/x-python",
   "name": "python",
   "nbconvert_exporter": "python",
   "pygments_lexer": "ipython2",
   "version": "2.7.11"
  }
 },
 "nbformat": 4,
 "nbformat_minor": 0
}
