{
 "cells": [
  {
   "cell_type": "code",
   "execution_count": null,
   "metadata": {
    "collapsed": true
   },
   "outputs": [],
   "source": [
    "import sys\n",
    "sys.path.append(\"../scripts/\")"
   ]
  },
  {
   "cell_type": "markdown",
   "metadata": {},
   "source": [
    "### Load original profile"
   ]
  },
  {
   "cell_type": "code",
   "execution_count": null,
   "metadata": {
    "collapsed": false
   },
   "outputs": [],
   "source": [
    "import json\n",
    "from data_collection_util import *"
   ]
  },
  {
   "cell_type": "code",
   "execution_count": null,
   "metadata": {
    "collapsed": true
   },
   "outputs": [],
   "source": [
    "# load original profile\n",
    "with open(\"../profile/profile.json\") as f:\n",
    "    orig_profile = json.load(f)"
   ]
  },
  {
   "cell_type": "markdown",
   "metadata": {},
   "source": [
    "In original profile, each gear member has the following arrtibutes: "
   ]
  },
  {
   "cell_type": "markdown",
   "metadata": {},
   "source": [
    "- website     \n",
    "- gear_collaborators     \n",
    "- pos_x     \n",
    "- pos_y     \n",
    "- surname     \n",
    "- name     \n",
    "- title     \n",
    "- photo     \n",
    "- other_collaborators     \n",
    "- member_type     \n",
    "- short_bio     \n",
    "- mathsci_id     \n",
    "- cluster_id     \n",
    "- member_id     \n",
    "- organization     \n",
    "- research_interests     "
   ]
  },
  {
   "cell_type": "markdown",
   "metadata": {},
   "source": [
    "A sample member profile looks like this:"
   ]
  },
  {
   "cell_type": "code",
   "execution_count": null,
   "metadata": {
    "collapsed": true
   },
   "outputs": [],
   "source": [
    "sample_profile = {u'cluster_id': 0,\n",
    " u'gear_collaborators': [],\n",
    " u'mathsci_id': u'MR304864',\n",
    " u'member_id': 12,\n",
    " u'member_type': u'member',\n",
    " u'name': u'Steven',\n",
    " u'organization': u'University of Illinois at Urbana-Champaign',\n",
    " u'other_collaborators': u'Indranil Biswas, Jim Glazebrook, Tomas Gomez, Adam Jacob, Franz Kamber, Vincent Mercat, Vicente Munoz, Peter Newstead, Mathias Stemmler',\n",
    " u'photo': u'BradlowSteven.jpg',\n",
    " u'pos_x': 0,\n",
    " u'pos_y': 0,\n",
    " u'research_interests': u'Higgs Bundles',\n",
    " u'short_bio': u\"I'm interested in moduli spaces associated with holomorphic vector bundles. In particular, I'm a big fan of applications of Higgs bundle technology to the study of surface group representation varieties. Before I die, I'd like to be able to compute the surface group representation corresponding to any given Higgs bundle, and vice versa.\",\n",
    " u'surname': u'Bradlow',\n",
    " u'title': u'GEAR Member',\n",
    " u'website': u''}"
   ]
  },
  {
   "cell_type": "markdown",
   "metadata": {},
   "source": [
    "### Build mappers for id and mathscinet id"
   ]
  },
  {
   "cell_type": "markdown",
   "metadata": {},
   "source": [
    "In this step, we build mapping between gear_id and mathscinet_id. For example, given a gear member id, *gear_mathsci_mapper* will return a mathscinet id"
   ]
  },
  {
   "cell_type": "code",
   "execution_count": null,
   "metadata": {
    "collapsed": true
   },
   "outputs": [],
   "source": [
    "mappers = make_mappers(orig_profile)\n",
    "gear_mathsci_mapper = mappers[0]\n",
    "mathsci_gear_mapper = mappers[1]"
   ]
  },
  {
   "cell_type": "markdown",
   "metadata": {},
   "source": [
    "### Download paper list for each member with mathsci_id"
   ]
  },
  {
   "cell_type": "markdown",
   "metadata": {},
   "source": [
    "In this step, the program iterates through all members. If a member has valid mathscinet id, then we retrieve the paper list of that member."
   ]
  },
  {
   "cell_type": "code",
   "execution_count": null,
   "metadata": {
    "collapsed": false
   },
   "outputs": [],
   "source": [
    "paper_set = download_full_paper_set(orig_profile)"
   ]
  },
  {
   "cell_type": "markdown",
   "metadata": {},
   "source": [
    "paper_set has the following structure: \n",
    "    - 'member 0': paper a, paper b\n",
    "    - 'member 1': paper b, paper c, paper d\n",
    "    - 'member 2': paper c"
   ]
  },
  {
   "cell_type": "markdown",
   "metadata": {},
   "source": [
    "for each paper, the structure is as follows: \n",
    "\n",
    "- date    \n",
    "- url    \n",
    "- id    \n",
    "- description    \n",
    "- authors    "
   ]
  },
  {
   "cell_type": "markdown",
   "metadata": {},
   "source": [
    "A sample paper looks like this:"
   ]
  },
  {
   "cell_type": "code",
   "execution_count": null,
   "metadata": {
    "collapsed": false
   },
   "outputs": [],
   "source": [
    "sp={'authors': ['MR367870', 'MR1001390'],\n",
    "   'date': 2012,\n",
    "   'description': u'Conner, Gregory R. ; Kent, Curtis Inverse limits of finite rank free groups. J. Group Theory 15 (2012), no. 6, 823\\u2013829. (Reviewer: David Meier) 20E05 (20E18)',\n",
    "   'id': u'MR2997025',\n",
    "   'url': u'http://www.ams.org/mathscinet/search/publdoc.html?pg1=MR&s1=MR2997025'}"
   ]
  },
  {
   "cell_type": "markdown",
   "metadata": {},
   "source": [
    "In our paper_set, Professor Bradlow has the following papers:"
   ]
  },
  {
   "cell_type": "code",
   "execution_count": null,
   "metadata": {
    "collapsed": false
   },
   "outputs": [],
   "source": [
    "paper_set['MR304864']"
   ]
  },
  {
   "cell_type": "markdown",
   "metadata": {},
   "source": [
    "#### Keep in mind that we only look at papers published after 2011. Hence, we filter the papers and get paper_set_2011"
   ]
  },
  {
   "cell_type": "code",
   "execution_count": null,
   "metadata": {
    "collapsed": false
   },
   "outputs": [],
   "source": [
    "paper_2011_meta = filter_2011(paper_set)\n",
    "\n",
    "paper_set_2011 = paper_2011_meta[0]\n",
    "count_2011 = paper_2011_meta[1]"
   ]
  },
  {
   "cell_type": "markdown",
   "metadata": {},
   "source": [
    "#### For co-citation papers, we need to know what papers are citing papers in paper_set_2011. \n",
    "\n",
    "This process may take 10 minutes, depending on network."
   ]
  },
  {
   "cell_type": "code",
   "execution_count": null,
   "metadata": {
    "collapsed": false
   },
   "outputs": [],
   "source": [
    "# download papers citing gear member papers\n",
    "download_gear_papers(paper_set_2011, count_2011)"
   ]
  },
  {
   "cell_type": "markdown",
   "metadata": {},
   "source": [
    "### Matrix generation"
   ]
  },
  {
   "cell_type": "markdown",
   "metadata": {},
   "source": [
    "We have one function *update_collaborators* that updates the co-authorship relation and the other function *update_citations* that updates the co-citation relation."
   ]
  },
  {
   "cell_type": "code",
   "execution_count": null,
   "metadata": {
    "collapsed": false
   },
   "outputs": [],
   "source": [
    "# update coauthorship/cocitation data\n",
    "full_paper_list = []\n",
    "\n",
    "for ending_year in range(2011, 2017):\n",
    "    update_collaborators(orig_profile, paper_set_2011, 2011, ending_year, mathsci_gear_mapper)\n",
    "    update_citations(orig_profile, paper_set_2011, 2011, ending_year, mathsci_gear_mapper, full_paper_list)"
   ]
  },
  {
   "cell_type": "markdown",
   "metadata": {},
   "source": [
    "These two functions will add additional data fields to authors. \n",
    "\n",
    "Let's look at Professor Bradlow's profile again:"
   ]
  },
  {
   "cell_type": "code",
   "execution_count": null,
   "metadata": {
    "collapsed": false
   },
   "outputs": [],
   "source": [
    "orig_profile['items'][12]"
   ]
  },
  {
   "cell_type": "markdown",
   "metadata": {},
   "source": [
    "### Co-author\n",
    "\n",
    "#### For co-author, we look at two types of fields: \n",
    "\n",
    " '2011-2015 collaborators details': 43: [u'MR3323627', u'MR2999985'], 49: [u'MR3323627', u'MR2999985']    \n",
    " '2011-2015 collaborators sizes': 43: 2, 49: 2"
   ]
  },
  {
   "cell_type": "markdown",
   "metadata": {},
   "source": [
    "It means that, Professor Bradlow (member id 12), has co-authored 2 papers (with paper id 'MR3323627' and 'MR2999985') with Member 43, and 2 papers (with paper id 'MR3323627' and 'MR2999985') with Member 49."
   ]
  },
  {
   "cell_type": "markdown",
   "metadata": {},
   "source": [
    "#### For co-citation, the idea is the similar"
   ]
  },
  {
   "cell_type": "markdown",
   "metadata": {},
   "source": [
    "### Matrix export"
   ]
  },
  {
   "cell_type": "markdown",
   "metadata": {},
   "source": [
    "#### We then output the matrix to files"
   ]
  },
  {
   "cell_type": "code",
   "execution_count": null,
   "metadata": {
    "collapsed": false
   },
   "outputs": [],
   "source": [
    "# print matrix \n",
    "for ending_year in range(2011, 2017):\n",
    "    matrix_maker(orig_profile, 2011, ending_year)"
   ]
  },
  {
   "cell_type": "code",
   "execution_count": null,
   "metadata": {
    "collapsed": true
   },
   "outputs": [],
   "source": [
    "def export_paper(the_paper_list): \n",
    "    output_path = os.path.join( '..', 'website_input', 'papers.json') \n",
    "    export = {} \n",
    "    for p in the_paper_list: \n",
    "        export[p['id']] = p \n",
    "    with open(output_path, \"w\") as f: \n",
    "        json.dump(unicode(export), f, ensure_ascii = False)"
   ]
  },
  {
   "cell_type": "code",
   "execution_count": null,
   "metadata": {
    "collapsed": false
   },
   "outputs": [],
   "source": [
    "export_paper(full_paper_list)"
   ]
  },
  {
   "cell_type": "code",
   "execution_count": null,
   "metadata": {
    "collapsed": true
   },
   "outputs": [],
   "source": [
    "export_profile(orig_profile)"
   ]
  },
  {
   "cell_type": "code",
   "execution_count": null,
   "metadata": {
    "collapsed": true
   },
   "outputs": [],
   "source": []
  }
 ],
 "metadata": {
  "kernelspec": {
   "display_name": "Python 2",
   "language": "python",
   "name": "python2"
  },
  "language_info": {
   "codemirror_mode": {
    "name": "ipython",
    "version": 2
   },
   "file_extension": ".py",
   "mimetype": "text/x-python",
   "name": "python",
   "nbconvert_exporter": "python",
   "pygments_lexer": "ipython2",
   "version": "2.7.11"
  }
 },
 "nbformat": 4,
 "nbformat_minor": 0
}
